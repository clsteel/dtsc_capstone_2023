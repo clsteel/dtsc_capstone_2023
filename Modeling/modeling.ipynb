{
 "cells": [
  {
   "cell_type": "code",
   "execution_count": 1,
   "outputs": [],
   "source": [
    "import pandas as pd\n",
    "import numpy as np\n",
    "import pickle\n",
    "import matplotlib.pyplot as plt\n",
    "from pandas.plotting import autocorrelation_plot\n",
    "pd.options.display.float_format = '{:.0f}'.format"
   ],
   "metadata": {
    "collapsed": false,
    "ExecuteTime": {
     "end_time": "2023-12-08T00:20:00.941433100Z",
     "start_time": "2023-12-08T00:20:00.230382400Z"
    }
   }
  },
  {
   "cell_type": "code",
   "execution_count": 2,
   "metadata": {
    "collapsed": true,
    "ExecuteTime": {
     "end_time": "2023-12-08T00:20:00.987210200Z",
     "start_time": "2023-12-08T00:20:00.941433100Z"
    }
   },
   "outputs": [],
   "source": [
    "data = pd.read_csv(\"../data_cleaning/features.csv\")"
   ]
  },
  {
   "cell_type": "code",
   "execution_count": 3,
   "outputs": [
    {
     "data": {
      "text/plain": "       Unnamed: 0  index       id release_date  runtime release_month  \\\n0               0      0    27205   2010-07-15      148          July   \n1               1      1   157336   2014-11-05      169      November   \n2               2      2      155   2008-07-16      152          July   \n3               3      3    19995   2009-12-15      162      December   \n4               4      4    24428   2012-04-25      143         April   \n...           ...    ...      ...          ...      ...           ...   \n11568       11568  14364  1079863   2007-10-12      105       October   \n11569       11569  14369  1105011   1977-03-26       87         March   \n11570       11570  14375   953480   1988-09-10       86     September   \n11571       11571  14376   721807   2006-11-24      135      November   \n11572       11572  14377   448603   1995-03-17       90         March   \n\n       adj_revenue  Documentary  week_num  adj_revenue_millions  ...  \\\n0       1165491209            0        28                  1165  ...   \n1        914603498            0        45                   915  ...   \n2       1405648374            0        29                  1406  ...   \n3       4167116097            0        51                  4167  ...   \n4       2031747869            0        17                  2032  ...   \n...            ...          ...       ...                   ...  ...   \n11568      4419377            0        41                     4  ...   \n11569      1034585            0        12                     1  ...   \n11570       841500            0        36                     1  ...   \n11571      1481664            0        47                     1  ...   \n11572       947647            0        11                     1  ...   \n\n       December  February  January   July   June  March    May  November  \\\n0         False     False    False   True  False  False  False     False   \n1         False     False    False  False  False  False  False      True   \n2         False     False    False   True  False  False  False     False   \n3          True     False    False  False  False  False  False     False   \n4         False     False    False  False  False  False  False     False   \n...         ...       ...      ...    ...    ...    ...    ...       ...   \n11568     False     False    False  False  False  False  False     False   \n11569     False     False    False  False  False   True  False     False   \n11570     False     False    False  False  False  False  False     False   \n11571     False     False    False  False  False  False  False      True   \n11572     False     False    False  False  False   True  False     False   \n\n       October  September  \n0        False      False  \n1        False      False  \n2        False      False  \n3        False      False  \n4        False      False  \n...        ...        ...  \n11568     True      False  \n11569    False      False  \n11570    False       True  \n11571    False      False  \n11572    False      False  \n\n[11573 rows x 30 columns]",
      "text/html": "<div>\n<style scoped>\n    .dataframe tbody tr th:only-of-type {\n        vertical-align: middle;\n    }\n\n    .dataframe tbody tr th {\n        vertical-align: top;\n    }\n\n    .dataframe thead th {\n        text-align: right;\n    }\n</style>\n<table border=\"1\" class=\"dataframe\">\n  <thead>\n    <tr style=\"text-align: right;\">\n      <th></th>\n      <th>Unnamed: 0</th>\n      <th>index</th>\n      <th>id</th>\n      <th>release_date</th>\n      <th>runtime</th>\n      <th>release_month</th>\n      <th>adj_revenue</th>\n      <th>Documentary</th>\n      <th>week_num</th>\n      <th>adj_revenue_millions</th>\n      <th>...</th>\n      <th>December</th>\n      <th>February</th>\n      <th>January</th>\n      <th>July</th>\n      <th>June</th>\n      <th>March</th>\n      <th>May</th>\n      <th>November</th>\n      <th>October</th>\n      <th>September</th>\n    </tr>\n  </thead>\n  <tbody>\n    <tr>\n      <th>0</th>\n      <td>0</td>\n      <td>0</td>\n      <td>27205</td>\n      <td>2010-07-15</td>\n      <td>148</td>\n      <td>July</td>\n      <td>1165491209</td>\n      <td>0</td>\n      <td>28</td>\n      <td>1165</td>\n      <td>...</td>\n      <td>False</td>\n      <td>False</td>\n      <td>False</td>\n      <td>True</td>\n      <td>False</td>\n      <td>False</td>\n      <td>False</td>\n      <td>False</td>\n      <td>False</td>\n      <td>False</td>\n    </tr>\n    <tr>\n      <th>1</th>\n      <td>1</td>\n      <td>1</td>\n      <td>157336</td>\n      <td>2014-11-05</td>\n      <td>169</td>\n      <td>November</td>\n      <td>914603498</td>\n      <td>0</td>\n      <td>45</td>\n      <td>915</td>\n      <td>...</td>\n      <td>False</td>\n      <td>False</td>\n      <td>False</td>\n      <td>False</td>\n      <td>False</td>\n      <td>False</td>\n      <td>False</td>\n      <td>True</td>\n      <td>False</td>\n      <td>False</td>\n    </tr>\n    <tr>\n      <th>2</th>\n      <td>2</td>\n      <td>2</td>\n      <td>155</td>\n      <td>2008-07-16</td>\n      <td>152</td>\n      <td>July</td>\n      <td>1405648374</td>\n      <td>0</td>\n      <td>29</td>\n      <td>1406</td>\n      <td>...</td>\n      <td>False</td>\n      <td>False</td>\n      <td>False</td>\n      <td>True</td>\n      <td>False</td>\n      <td>False</td>\n      <td>False</td>\n      <td>False</td>\n      <td>False</td>\n      <td>False</td>\n    </tr>\n    <tr>\n      <th>3</th>\n      <td>3</td>\n      <td>3</td>\n      <td>19995</td>\n      <td>2009-12-15</td>\n      <td>162</td>\n      <td>December</td>\n      <td>4167116097</td>\n      <td>0</td>\n      <td>51</td>\n      <td>4167</td>\n      <td>...</td>\n      <td>True</td>\n      <td>False</td>\n      <td>False</td>\n      <td>False</td>\n      <td>False</td>\n      <td>False</td>\n      <td>False</td>\n      <td>False</td>\n      <td>False</td>\n      <td>False</td>\n    </tr>\n    <tr>\n      <th>4</th>\n      <td>4</td>\n      <td>4</td>\n      <td>24428</td>\n      <td>2012-04-25</td>\n      <td>143</td>\n      <td>April</td>\n      <td>2031747869</td>\n      <td>0</td>\n      <td>17</td>\n      <td>2032</td>\n      <td>...</td>\n      <td>False</td>\n      <td>False</td>\n      <td>False</td>\n      <td>False</td>\n      <td>False</td>\n      <td>False</td>\n      <td>False</td>\n      <td>False</td>\n      <td>False</td>\n      <td>False</td>\n    </tr>\n    <tr>\n      <th>...</th>\n      <td>...</td>\n      <td>...</td>\n      <td>...</td>\n      <td>...</td>\n      <td>...</td>\n      <td>...</td>\n      <td>...</td>\n      <td>...</td>\n      <td>...</td>\n      <td>...</td>\n      <td>...</td>\n      <td>...</td>\n      <td>...</td>\n      <td>...</td>\n      <td>...</td>\n      <td>...</td>\n      <td>...</td>\n      <td>...</td>\n      <td>...</td>\n      <td>...</td>\n      <td>...</td>\n    </tr>\n    <tr>\n      <th>11568</th>\n      <td>11568</td>\n      <td>14364</td>\n      <td>1079863</td>\n      <td>2007-10-12</td>\n      <td>105</td>\n      <td>October</td>\n      <td>4419377</td>\n      <td>0</td>\n      <td>41</td>\n      <td>4</td>\n      <td>...</td>\n      <td>False</td>\n      <td>False</td>\n      <td>False</td>\n      <td>False</td>\n      <td>False</td>\n      <td>False</td>\n      <td>False</td>\n      <td>False</td>\n      <td>True</td>\n      <td>False</td>\n    </tr>\n    <tr>\n      <th>11569</th>\n      <td>11569</td>\n      <td>14369</td>\n      <td>1105011</td>\n      <td>1977-03-26</td>\n      <td>87</td>\n      <td>March</td>\n      <td>1034585</td>\n      <td>0</td>\n      <td>12</td>\n      <td>1</td>\n      <td>...</td>\n      <td>False</td>\n      <td>False</td>\n      <td>False</td>\n      <td>False</td>\n      <td>False</td>\n      <td>True</td>\n      <td>False</td>\n      <td>False</td>\n      <td>False</td>\n      <td>False</td>\n    </tr>\n    <tr>\n      <th>11570</th>\n      <td>11570</td>\n      <td>14375</td>\n      <td>953480</td>\n      <td>1988-09-10</td>\n      <td>86</td>\n      <td>September</td>\n      <td>841500</td>\n      <td>0</td>\n      <td>36</td>\n      <td>1</td>\n      <td>...</td>\n      <td>False</td>\n      <td>False</td>\n      <td>False</td>\n      <td>False</td>\n      <td>False</td>\n      <td>False</td>\n      <td>False</td>\n      <td>False</td>\n      <td>False</td>\n      <td>True</td>\n    </tr>\n    <tr>\n      <th>11571</th>\n      <td>11571</td>\n      <td>14376</td>\n      <td>721807</td>\n      <td>2006-11-24</td>\n      <td>135</td>\n      <td>November</td>\n      <td>1481664</td>\n      <td>0</td>\n      <td>47</td>\n      <td>1</td>\n      <td>...</td>\n      <td>False</td>\n      <td>False</td>\n      <td>False</td>\n      <td>False</td>\n      <td>False</td>\n      <td>False</td>\n      <td>False</td>\n      <td>True</td>\n      <td>False</td>\n      <td>False</td>\n    </tr>\n    <tr>\n      <th>11572</th>\n      <td>11572</td>\n      <td>14377</td>\n      <td>448603</td>\n      <td>1995-03-17</td>\n      <td>90</td>\n      <td>March</td>\n      <td>947647</td>\n      <td>0</td>\n      <td>11</td>\n      <td>1</td>\n      <td>...</td>\n      <td>False</td>\n      <td>False</td>\n      <td>False</td>\n      <td>False</td>\n      <td>False</td>\n      <td>True</td>\n      <td>False</td>\n      <td>False</td>\n      <td>False</td>\n      <td>False</td>\n    </tr>\n  </tbody>\n</table>\n<p>11573 rows × 30 columns</p>\n</div>"
     },
     "execution_count": 3,
     "metadata": {},
     "output_type": "execute_result"
    }
   ],
   "source": [
    "data"
   ],
   "metadata": {
    "collapsed": false,
    "ExecuteTime": {
     "end_time": "2023-12-08T00:20:01.010151900Z",
     "start_time": "2023-12-08T00:20:00.987210200Z"
    }
   }
  },
  {
   "cell_type": "code",
   "execution_count": 4,
   "outputs": [
    {
     "data": {
      "text/plain": "count   11573\nmean       98\nstd       222\nmin         1\n25%         4\n50%        21\n75%        90\nmax      4315\nName: adj_revenue_millions, dtype: float64"
     },
     "execution_count": 4,
     "metadata": {},
     "output_type": "execute_result"
    }
   ],
   "source": [
    "data['adj_revenue_millions'].describe()"
   ],
   "metadata": {
    "collapsed": false,
    "ExecuteTime": {
     "end_time": "2023-12-08T00:20:02.566056400Z",
     "start_time": "2023-12-08T00:20:02.547310100Z"
    }
   }
  },
  {
   "cell_type": "markdown",
   "source": [
    "Here i was going to attempt to use a time series model for prediction, but I couldn't figure out how to use it properly. The autocorrelation seems to be insignificant, so I'm not sure that predictions would have any validity anyway. When I attempted to run these models it ran for a very long time and seemed to throw errors that I was unable to troubleshoot."
   ],
   "metadata": {
    "collapsed": false
   }
  },
  {
   "cell_type": "code",
   "execution_count": 5,
   "outputs": [],
   "source": [
    "# test = data[['release_date','adj_revenue_millions']]\n",
    "# test['release_date'] = pd.to_datetime(test['release_date'], format=\"%Y-%M-%d\")\n",
    "# test  = test.set_index('release_date')\n",
    "# test.index = pd.DatetimeIndex(test.index).to_period('M')\n",
    "# #test.index = test.index.to_timestamp()\n",
    "# test = test.sort_index()\n",
    "# autocorrelation_plot(test)\n",
    "# plt.show()"
   ],
   "metadata": {
    "collapsed": false,
    "ExecuteTime": {
     "end_time": "2023-12-08T00:20:06.741853900Z",
     "start_time": "2023-12-08T00:20:06.741853900Z"
    }
   }
  },
  {
   "cell_type": "code",
   "execution_count": 6,
   "outputs": [],
   "source": [
    "# from statsmodels.tsa.arima.model import ARIMA\n",
    "#\n",
    "# model = ARIMA(test, order=(10,1,0))\n",
    "# model_fit = model.fit()"
   ],
   "metadata": {
    "collapsed": false,
    "ExecuteTime": {
     "end_time": "2023-12-08T00:20:06.965983700Z",
     "start_time": "2023-12-08T00:20:06.965983700Z"
    }
   }
  },
  {
   "cell_type": "code",
   "execution_count": 7,
   "outputs": [],
   "source": [
    "# print(model_fit.summary())"
   ],
   "metadata": {
    "collapsed": false,
    "ExecuteTime": {
     "end_time": "2023-12-08T00:20:07.297005200Z",
     "start_time": "2023-12-08T00:20:07.296491700Z"
    }
   }
  },
  {
   "cell_type": "markdown",
   "source": [
    "I am going to use a random forest regressor to try to predict revenue based on genre, runtime, release month, and the number of common words in the synopsis. I will then save the model, and in the website I will run the model 12 times with a different release month each time, use the other parameters based on the user input and return the model from the release month that predicted the highest revenue."
   ],
   "metadata": {
    "collapsed": false
   }
  },
  {
   "cell_type": "code",
   "execution_count": 8,
   "outputs": [],
   "source": [
    "X = data[['runtime','Documentary','action_adv_war_west','horror_thriller','family_animate','scifi_fantasy','hist_drama','crime_mystery','comedy_romance_music','common_word_count','January','February','March','April','May','June','July','August','September','October','November','December']]\n",
    "y = data['adj_revenue_millions']"
   ],
   "metadata": {
    "collapsed": false,
    "ExecuteTime": {
     "end_time": "2023-12-08T00:20:08.918866900Z",
     "start_time": "2023-12-08T00:20:08.901763400Z"
    }
   }
  },
  {
   "cell_type": "code",
   "execution_count": 9,
   "outputs": [],
   "source": [
    "from sklearn.model_selection import train_test_split\n",
    "\n",
    "X_train, X_test, y_train, y_test = train_test_split(X, y, test_size=0.2)"
   ],
   "metadata": {
    "collapsed": false,
    "ExecuteTime": {
     "end_time": "2023-12-08T00:20:10.599804200Z",
     "start_time": "2023-12-08T00:20:09.830025100Z"
    }
   }
  },
  {
   "cell_type": "markdown",
   "source": [
    "the distribution of the revenue data is wildly imbalanced and has some extreme outliers. random forest regression is tolerant to outliers though so we don't have to worry about it."
   ],
   "metadata": {
    "collapsed": false
   }
  },
  {
   "cell_type": "code",
   "execution_count": 10,
   "outputs": [],
   "source": [
    "from sklearn.ensemble import RandomForestRegressor\n",
    "\n",
    "model = RandomForestRegressor(n_estimators=100, max_depth=2)\n",
    "\n",
    "model.fit(X_train,y_train)\n",
    "\n",
    "y_pred = model.predict(X_test)"
   ],
   "metadata": {
    "collapsed": false,
    "ExecuteTime": {
     "end_time": "2023-12-08T00:20:12.983384600Z",
     "start_time": "2023-12-08T00:20:12.463885200Z"
    }
   }
  },
  {
   "cell_type": "code",
   "execution_count": 11,
   "outputs": [
    {
     "name": "stdout",
     "output_type": "stream",
     "text": [
      "Mean Absolute Error (MAE): 105.03220595818999\n",
      "Mean Squared Error (MSE): 36277.90332564094\n",
      "Root Mean Squared Error (RMSE): 190.46759127379372\n",
      "Mean Absolute Percentage Error (MAPE): 1604.18\n",
      "Accuracy: -1504.18\n"
     ]
    }
   ],
   "source": [
    "from sklearn import metrics\n",
    "\n",
    "print('mean abs error:', metrics.mean_absolute_error(y_test, y_pred))\n",
    "print('mean sq error:', metrics.mean_squared_error(y_test, y_pred))\n",
    "print('rmse:', np.sqrt(metrics.mean_squared_error(y_test, y_pred)))\n",
    "mape = np.mean(np.abs((y_test - y_pred) / np.abs(y_test)))\n",
    "print('mean abs percent error:', round(mape * 100, 2))\n",
    "print('accuracy:', round(100*(1 - mape), 2))"
   ],
   "metadata": {
    "collapsed": false,
    "ExecuteTime": {
     "end_time": "2023-12-08T00:20:15.296999400Z",
     "start_time": "2023-12-08T00:20:15.288686900Z"
    }
   }
  },
  {
   "cell_type": "markdown",
   "source": [
    "The MAPE of this model is extraordinarily high, which is likely because some of the predictions are overshooting or undershooting by such a high degree that the average is thrown off completely. The RMSE is still quite high, but perhaps slightly more acceptable than the MAPE would indicate. This particular research question is not well answered by this data. There are many factors that contribute to the success of a film, and it is not surprising that it is difficult to tell in advance how a film will perform, especially absent the contextual information about the cultural significance (e.g. superhero movies perform better than other action movies, franchise movies perform differently than ones with unknown characters and stories, etc etc). This model is not strong at predicting revenue, but I will still use it in searching for the best month in which to release a film. The exact revenue number is unreliable, but perhaps a small trend will still be useful. Going to perform a randomized search and then a grid search to tune hyperparameters."
   ],
   "metadata": {
    "collapsed": false
   }
  },
  {
   "cell_type": "code",
   "execution_count": 12,
   "outputs": [],
   "source": [
    "from sklearn.model_selection import RandomizedSearchCV\n",
    "\n",
    "n_estimators = [int(x) for x in np.linspace(start=200, stop=1000, num=10)]\n",
    "max_features = [ 1,'sqrt']\n",
    "max_depth = [int(x) for x in np.linspace(10,110, num=11)]\n",
    "max_depth.append(None)\n",
    "min_samples_split = [2,5,8,10,12]\n",
    "min_samples_leaf = [1, 2, 3, 4, 5]\n",
    "bootstrap = [True, False]\n",
    "\n",
    "random_grid = {'n_estimators': n_estimators,\n",
    "               'max_features': max_features,\n",
    "               'max_depth': max_depth,\n",
    "               'min_samples_split': min_samples_split,\n",
    "               'min_samples_leaf': min_samples_leaf,\n",
    "               'bootstrap': bootstrap}"
   ],
   "metadata": {
    "collapsed": false,
    "ExecuteTime": {
     "end_time": "2023-12-08T00:20:32.943524500Z",
     "start_time": "2023-12-08T00:20:32.936099700Z"
    }
   }
  },
  {
   "cell_type": "code",
   "execution_count": 13,
   "outputs": [
    {
     "name": "stdout",
     "output_type": "stream",
     "text": [
      "Fitting 3 folds for each of 50 candidates, totalling 150 fits\n",
      "[CV] END bootstrap=False, max_depth=70, max_features=sqrt, min_samples_leaf=4, min_samples_split=10, n_estimators=200; total time=   1.0s\n",
      "[CV] END bootstrap=False, max_depth=70, max_features=sqrt, min_samples_leaf=4, min_samples_split=10, n_estimators=200; total time=   1.3s\n",
      "[CV] END bootstrap=False, max_depth=70, max_features=sqrt, min_samples_leaf=4, min_samples_split=10, n_estimators=200; total time=   0.9s\n",
      "[CV] END bootstrap=True, max_depth=20, max_features=1, min_samples_leaf=3, min_samples_split=5, n_estimators=644; total time=   2.2s\n",
      "[CV] END bootstrap=True, max_depth=20, max_features=1, min_samples_leaf=3, min_samples_split=5, n_estimators=644; total time=   2.4s\n",
      "[CV] END bootstrap=True, max_depth=20, max_features=1, min_samples_leaf=3, min_samples_split=5, n_estimators=644; total time=   2.3s\n",
      "[CV] END bootstrap=True, max_depth=100, max_features=1, min_samples_leaf=3, min_samples_split=5, n_estimators=466; total time=   1.7s\n",
      "[CV] END bootstrap=True, max_depth=100, max_features=1, min_samples_leaf=3, min_samples_split=5, n_estimators=466; total time=   1.9s\n",
      "[CV] END bootstrap=True, max_depth=100, max_features=1, min_samples_leaf=3, min_samples_split=5, n_estimators=466; total time=   1.7s\n",
      "[CV] END bootstrap=False, max_depth=80, max_features=sqrt, min_samples_leaf=3, min_samples_split=5, n_estimators=733; total time=   4.5s\n",
      "[CV] END bootstrap=False, max_depth=80, max_features=sqrt, min_samples_leaf=3, min_samples_split=5, n_estimators=733; total time=   4.7s\n",
      "[CV] END bootstrap=False, max_depth=80, max_features=sqrt, min_samples_leaf=3, min_samples_split=5, n_estimators=733; total time=   4.8s\n",
      "[CV] END bootstrap=True, max_depth=50, max_features=1, min_samples_leaf=1, min_samples_split=2, n_estimators=555; total time=   6.8s\n",
      "[CV] END bootstrap=True, max_depth=50, max_features=1, min_samples_leaf=1, min_samples_split=2, n_estimators=555; total time=   6.5s\n",
      "[CV] END bootstrap=True, max_depth=50, max_features=1, min_samples_leaf=1, min_samples_split=2, n_estimators=555; total time=   6.5s\n",
      "[CV] END bootstrap=True, max_depth=100, max_features=sqrt, min_samples_leaf=5, min_samples_split=5, n_estimators=288; total time=   1.2s\n",
      "[CV] END bootstrap=True, max_depth=100, max_features=sqrt, min_samples_leaf=5, min_samples_split=5, n_estimators=288; total time=   1.1s\n",
      "[CV] END bootstrap=True, max_depth=100, max_features=sqrt, min_samples_leaf=5, min_samples_split=5, n_estimators=288; total time=   1.0s\n",
      "[CV] END bootstrap=False, max_depth=10, max_features=sqrt, min_samples_leaf=5, min_samples_split=10, n_estimators=911; total time=   2.6s\n",
      "[CV] END bootstrap=False, max_depth=10, max_features=sqrt, min_samples_leaf=5, min_samples_split=10, n_estimators=911; total time=   2.7s\n",
      "[CV] END bootstrap=False, max_depth=10, max_features=sqrt, min_samples_leaf=5, min_samples_split=10, n_estimators=911; total time=   2.7s\n",
      "[CV] END bootstrap=True, max_depth=70, max_features=1, min_samples_leaf=1, min_samples_split=12, n_estimators=200; total time=   0.7s\n",
      "[CV] END bootstrap=True, max_depth=70, max_features=1, min_samples_leaf=1, min_samples_split=12, n_estimators=200; total time=   0.7s\n",
      "[CV] END bootstrap=True, max_depth=70, max_features=1, min_samples_leaf=1, min_samples_split=12, n_estimators=200; total time=   0.7s\n",
      "[CV] END bootstrap=True, max_depth=10, max_features=sqrt, min_samples_leaf=5, min_samples_split=5, n_estimators=377; total time=   0.9s\n",
      "[CV] END bootstrap=True, max_depth=10, max_features=sqrt, min_samples_leaf=5, min_samples_split=5, n_estimators=377; total time=   0.9s\n",
      "[CV] END bootstrap=True, max_depth=10, max_features=sqrt, min_samples_leaf=5, min_samples_split=5, n_estimators=377; total time=   0.9s\n",
      "[CV] END bootstrap=False, max_depth=70, max_features=sqrt, min_samples_leaf=3, min_samples_split=8, n_estimators=822; total time=   4.7s\n",
      "[CV] END bootstrap=False, max_depth=70, max_features=sqrt, min_samples_leaf=3, min_samples_split=8, n_estimators=822; total time=   4.7s\n",
      "[CV] END bootstrap=False, max_depth=70, max_features=sqrt, min_samples_leaf=3, min_samples_split=8, n_estimators=822; total time=   4.7s\n",
      "[CV] END bootstrap=False, max_depth=40, max_features=1, min_samples_leaf=4, min_samples_split=10, n_estimators=911; total time=   3.1s\n",
      "[CV] END bootstrap=False, max_depth=40, max_features=1, min_samples_leaf=4, min_samples_split=10, n_estimators=911; total time=   3.2s\n",
      "[CV] END bootstrap=False, max_depth=40, max_features=1, min_samples_leaf=4, min_samples_split=10, n_estimators=911; total time=   3.3s\n",
      "[CV] END bootstrap=True, max_depth=100, max_features=sqrt, min_samples_leaf=5, min_samples_split=12, n_estimators=555; total time=   2.0s\n",
      "[CV] END bootstrap=True, max_depth=100, max_features=sqrt, min_samples_leaf=5, min_samples_split=12, n_estimators=555; total time=   2.0s\n",
      "[CV] END bootstrap=True, max_depth=100, max_features=sqrt, min_samples_leaf=5, min_samples_split=12, n_estimators=555; total time=   2.0s\n",
      "[CV] END bootstrap=True, max_depth=50, max_features=sqrt, min_samples_leaf=4, min_samples_split=8, n_estimators=644; total time=   2.7s\n",
      "[CV] END bootstrap=True, max_depth=50, max_features=sqrt, min_samples_leaf=4, min_samples_split=8, n_estimators=644; total time=   2.7s\n",
      "[CV] END bootstrap=True, max_depth=50, max_features=sqrt, min_samples_leaf=4, min_samples_split=8, n_estimators=644; total time=   2.7s\n",
      "[CV] END bootstrap=False, max_depth=None, max_features=sqrt, min_samples_leaf=5, min_samples_split=10, n_estimators=733; total time=   3.5s\n",
      "[CV] END bootstrap=False, max_depth=None, max_features=sqrt, min_samples_leaf=5, min_samples_split=10, n_estimators=733; total time=   4.0s\n",
      "[CV] END bootstrap=False, max_depth=None, max_features=sqrt, min_samples_leaf=5, min_samples_split=10, n_estimators=733; total time=   3.5s\n",
      "[CV] END bootstrap=False, max_depth=70, max_features=sqrt, min_samples_leaf=2, min_samples_split=5, n_estimators=200; total time=   1.5s\n",
      "[CV] END bootstrap=False, max_depth=70, max_features=sqrt, min_samples_leaf=2, min_samples_split=5, n_estimators=200; total time=   1.4s\n",
      "[CV] END bootstrap=False, max_depth=70, max_features=sqrt, min_samples_leaf=2, min_samples_split=5, n_estimators=200; total time=   1.5s\n",
      "[CV] END bootstrap=True, max_depth=60, max_features=sqrt, min_samples_leaf=2, min_samples_split=12, n_estimators=555; total time=   2.5s\n",
      "[CV] END bootstrap=True, max_depth=60, max_features=sqrt, min_samples_leaf=2, min_samples_split=12, n_estimators=555; total time=   2.5s\n",
      "[CV] END bootstrap=True, max_depth=60, max_features=sqrt, min_samples_leaf=2, min_samples_split=12, n_estimators=555; total time=   2.6s\n",
      "[CV] END bootstrap=False, max_depth=90, max_features=1, min_samples_leaf=1, min_samples_split=5, n_estimators=1000; total time=   8.2s\n",
      "[CV] END bootstrap=False, max_depth=90, max_features=1, min_samples_leaf=1, min_samples_split=5, n_estimators=1000; total time=   8.2s\n",
      "[CV] END bootstrap=False, max_depth=90, max_features=1, min_samples_leaf=1, min_samples_split=5, n_estimators=1000; total time=   8.4s\n",
      "[CV] END bootstrap=False, max_depth=90, max_features=sqrt, min_samples_leaf=2, min_samples_split=5, n_estimators=555; total time=   4.3s\n",
      "[CV] END bootstrap=False, max_depth=90, max_features=sqrt, min_samples_leaf=2, min_samples_split=5, n_estimators=555; total time=   4.3s\n",
      "[CV] END bootstrap=False, max_depth=90, max_features=sqrt, min_samples_leaf=2, min_samples_split=5, n_estimators=555; total time=   4.3s\n",
      "[CV] END bootstrap=True, max_depth=90, max_features=sqrt, min_samples_leaf=1, min_samples_split=5, n_estimators=911; total time=   7.7s\n",
      "[CV] END bootstrap=True, max_depth=90, max_features=sqrt, min_samples_leaf=1, min_samples_split=5, n_estimators=911; total time=   7.7s\n",
      "[CV] END bootstrap=True, max_depth=90, max_features=sqrt, min_samples_leaf=1, min_samples_split=5, n_estimators=911; total time=   7.0s\n",
      "[CV] END bootstrap=True, max_depth=30, max_features=sqrt, min_samples_leaf=5, min_samples_split=10, n_estimators=466; total time=   1.9s\n",
      "[CV] END bootstrap=True, max_depth=30, max_features=sqrt, min_samples_leaf=5, min_samples_split=10, n_estimators=466; total time=   1.7s\n",
      "[CV] END bootstrap=True, max_depth=30, max_features=sqrt, min_samples_leaf=5, min_samples_split=10, n_estimators=466; total time=   1.7s\n",
      "[CV] END bootstrap=True, max_depth=40, max_features=sqrt, min_samples_leaf=5, min_samples_split=5, n_estimators=822; total time=   3.1s\n",
      "[CV] END bootstrap=True, max_depth=40, max_features=sqrt, min_samples_leaf=5, min_samples_split=5, n_estimators=822; total time=   3.1s\n",
      "[CV] END bootstrap=True, max_depth=40, max_features=sqrt, min_samples_leaf=5, min_samples_split=5, n_estimators=822; total time=   3.1s\n",
      "[CV] END bootstrap=True, max_depth=110, max_features=1, min_samples_leaf=4, min_samples_split=12, n_estimators=377; total time=   1.0s\n",
      "[CV] END bootstrap=True, max_depth=110, max_features=1, min_samples_leaf=4, min_samples_split=12, n_estimators=377; total time=   1.0s\n",
      "[CV] END bootstrap=True, max_depth=110, max_features=1, min_samples_leaf=4, min_samples_split=12, n_estimators=377; total time=   1.0s\n",
      "[CV] END bootstrap=False, max_depth=100, max_features=sqrt, min_samples_leaf=1, min_samples_split=5, n_estimators=555; total time=   5.1s\n",
      "[CV] END bootstrap=False, max_depth=100, max_features=sqrt, min_samples_leaf=1, min_samples_split=5, n_estimators=555; total time=   5.1s\n",
      "[CV] END bootstrap=False, max_depth=100, max_features=sqrt, min_samples_leaf=1, min_samples_split=5, n_estimators=555; total time=   5.1s\n",
      "[CV] END bootstrap=True, max_depth=40, max_features=1, min_samples_leaf=4, min_samples_split=2, n_estimators=911; total time=   2.7s\n",
      "[CV] END bootstrap=True, max_depth=40, max_features=1, min_samples_leaf=4, min_samples_split=2, n_estimators=911; total time=   2.9s\n",
      "[CV] END bootstrap=True, max_depth=40, max_features=1, min_samples_leaf=4, min_samples_split=2, n_estimators=911; total time=   2.8s\n",
      "[CV] END bootstrap=True, max_depth=80, max_features=1, min_samples_leaf=1, min_samples_split=12, n_estimators=466; total time=   1.8s\n",
      "[CV] END bootstrap=True, max_depth=80, max_features=1, min_samples_leaf=1, min_samples_split=12, n_estimators=466; total time=   1.9s\n",
      "[CV] END bootstrap=True, max_depth=80, max_features=1, min_samples_leaf=1, min_samples_split=12, n_estimators=466; total time=   1.8s\n",
      "[CV] END bootstrap=True, max_depth=50, max_features=sqrt, min_samples_leaf=2, min_samples_split=10, n_estimators=911; total time=   4.7s\n",
      "[CV] END bootstrap=True, max_depth=50, max_features=sqrt, min_samples_leaf=2, min_samples_split=10, n_estimators=911; total time=   4.3s\n",
      "[CV] END bootstrap=True, max_depth=50, max_features=sqrt, min_samples_leaf=2, min_samples_split=10, n_estimators=911; total time=   4.4s\n",
      "[CV] END bootstrap=True, max_depth=110, max_features=1, min_samples_leaf=1, min_samples_split=5, n_estimators=288; total time=   1.8s\n",
      "[CV] END bootstrap=True, max_depth=110, max_features=1, min_samples_leaf=1, min_samples_split=5, n_estimators=288; total time=   1.8s\n",
      "[CV] END bootstrap=True, max_depth=110, max_features=1, min_samples_leaf=1, min_samples_split=5, n_estimators=288; total time=   1.8s\n",
      "[CV] END bootstrap=False, max_depth=100, max_features=sqrt, min_samples_leaf=5, min_samples_split=10, n_estimators=822; total time=   3.8s\n",
      "[CV] END bootstrap=False, max_depth=100, max_features=sqrt, min_samples_leaf=5, min_samples_split=10, n_estimators=822; total time=   4.0s\n",
      "[CV] END bootstrap=False, max_depth=100, max_features=sqrt, min_samples_leaf=5, min_samples_split=10, n_estimators=822; total time=   4.0s\n",
      "[CV] END bootstrap=False, max_depth=None, max_features=sqrt, min_samples_leaf=1, min_samples_split=5, n_estimators=377; total time=   3.5s\n",
      "[CV] END bootstrap=False, max_depth=None, max_features=sqrt, min_samples_leaf=1, min_samples_split=5, n_estimators=377; total time=   3.5s\n",
      "[CV] END bootstrap=False, max_depth=None, max_features=sqrt, min_samples_leaf=1, min_samples_split=5, n_estimators=377; total time=   3.5s\n",
      "[CV] END bootstrap=True, max_depth=50, max_features=1, min_samples_leaf=2, min_samples_split=8, n_estimators=288; total time=   1.1s\n",
      "[CV] END bootstrap=True, max_depth=50, max_features=1, min_samples_leaf=2, min_samples_split=8, n_estimators=288; total time=   1.1s\n",
      "[CV] END bootstrap=True, max_depth=50, max_features=1, min_samples_leaf=2, min_samples_split=8, n_estimators=288; total time=   1.1s\n",
      "[CV] END bootstrap=False, max_depth=10, max_features=sqrt, min_samples_leaf=3, min_samples_split=10, n_estimators=644; total time=   1.8s\n",
      "[CV] END bootstrap=False, max_depth=10, max_features=sqrt, min_samples_leaf=3, min_samples_split=10, n_estimators=644; total time=   1.9s\n",
      "[CV] END bootstrap=False, max_depth=10, max_features=sqrt, min_samples_leaf=3, min_samples_split=10, n_estimators=644; total time=   1.9s\n",
      "[CV] END bootstrap=False, max_depth=50, max_features=sqrt, min_samples_leaf=1, min_samples_split=5, n_estimators=555; total time=   5.1s\n",
      "[CV] END bootstrap=False, max_depth=50, max_features=sqrt, min_samples_leaf=1, min_samples_split=5, n_estimators=555; total time=   5.6s\n",
      "[CV] END bootstrap=False, max_depth=50, max_features=sqrt, min_samples_leaf=1, min_samples_split=5, n_estimators=555; total time=   5.3s\n",
      "[CV] END bootstrap=True, max_depth=90, max_features=sqrt, min_samples_leaf=5, min_samples_split=5, n_estimators=377; total time=   1.4s\n",
      "[CV] END bootstrap=True, max_depth=90, max_features=sqrt, min_samples_leaf=5, min_samples_split=5, n_estimators=377; total time=   1.4s\n",
      "[CV] END bootstrap=True, max_depth=90, max_features=sqrt, min_samples_leaf=5, min_samples_split=5, n_estimators=377; total time=   1.4s\n",
      "[CV] END bootstrap=True, max_depth=40, max_features=sqrt, min_samples_leaf=2, min_samples_split=10, n_estimators=644; total time=   3.1s\n",
      "[CV] END bootstrap=True, max_depth=40, max_features=sqrt, min_samples_leaf=2, min_samples_split=10, n_estimators=644; total time=   3.1s\n",
      "[CV] END bootstrap=True, max_depth=40, max_features=sqrt, min_samples_leaf=2, min_samples_split=10, n_estimators=644; total time=   3.1s\n",
      "[CV] END bootstrap=False, max_depth=60, max_features=sqrt, min_samples_leaf=2, min_samples_split=8, n_estimators=466; total time=   3.0s\n",
      "[CV] END bootstrap=False, max_depth=60, max_features=sqrt, min_samples_leaf=2, min_samples_split=8, n_estimators=466; total time=   3.0s\n",
      "[CV] END bootstrap=False, max_depth=60, max_features=sqrt, min_samples_leaf=2, min_samples_split=8, n_estimators=466; total time=   2.9s\n",
      "[CV] END bootstrap=True, max_depth=30, max_features=1, min_samples_leaf=5, min_samples_split=8, n_estimators=200; total time=   0.5s\n",
      "[CV] END bootstrap=True, max_depth=30, max_features=1, min_samples_leaf=5, min_samples_split=8, n_estimators=200; total time=   0.4s\n",
      "[CV] END bootstrap=True, max_depth=30, max_features=1, min_samples_leaf=5, min_samples_split=8, n_estimators=200; total time=   0.5s\n",
      "[CV] END bootstrap=False, max_depth=10, max_features=sqrt, min_samples_leaf=2, min_samples_split=8, n_estimators=466; total time=   1.4s\n",
      "[CV] END bootstrap=False, max_depth=10, max_features=sqrt, min_samples_leaf=2, min_samples_split=8, n_estimators=466; total time=   1.3s\n",
      "[CV] END bootstrap=False, max_depth=10, max_features=sqrt, min_samples_leaf=2, min_samples_split=8, n_estimators=466; total time=   1.3s\n",
      "[CV] END bootstrap=True, max_depth=70, max_features=sqrt, min_samples_leaf=5, min_samples_split=10, n_estimators=288; total time=   1.0s\n",
      "[CV] END bootstrap=True, max_depth=70, max_features=sqrt, min_samples_leaf=5, min_samples_split=10, n_estimators=288; total time=   1.0s\n",
      "[CV] END bootstrap=True, max_depth=70, max_features=sqrt, min_samples_leaf=5, min_samples_split=10, n_estimators=288; total time=   1.1s\n",
      "[CV] END bootstrap=False, max_depth=110, max_features=sqrt, min_samples_leaf=5, min_samples_split=8, n_estimators=377; total time=   1.7s\n",
      "[CV] END bootstrap=False, max_depth=110, max_features=sqrt, min_samples_leaf=5, min_samples_split=8, n_estimators=377; total time=   1.7s\n",
      "[CV] END bootstrap=False, max_depth=110, max_features=sqrt, min_samples_leaf=5, min_samples_split=8, n_estimators=377; total time=   1.7s\n",
      "[CV] END bootstrap=True, max_depth=30, max_features=sqrt, min_samples_leaf=4, min_samples_split=2, n_estimators=911; total time=   3.8s\n",
      "[CV] END bootstrap=True, max_depth=30, max_features=sqrt, min_samples_leaf=4, min_samples_split=2, n_estimators=911; total time=   3.9s\n",
      "[CV] END bootstrap=True, max_depth=30, max_features=sqrt, min_samples_leaf=4, min_samples_split=2, n_estimators=911; total time=   3.8s\n",
      "[CV] END bootstrap=True, max_depth=30, max_features=1, min_samples_leaf=5, min_samples_split=12, n_estimators=644; total time=   1.8s\n",
      "[CV] END bootstrap=True, max_depth=30, max_features=1, min_samples_leaf=5, min_samples_split=12, n_estimators=644; total time=   1.7s\n",
      "[CV] END bootstrap=True, max_depth=30, max_features=1, min_samples_leaf=5, min_samples_split=12, n_estimators=644; total time=   1.7s\n",
      "[CV] END bootstrap=True, max_depth=10, max_features=sqrt, min_samples_leaf=3, min_samples_split=10, n_estimators=288; total time=   0.7s\n",
      "[CV] END bootstrap=True, max_depth=10, max_features=sqrt, min_samples_leaf=3, min_samples_split=10, n_estimators=288; total time=   0.8s\n",
      "[CV] END bootstrap=True, max_depth=10, max_features=sqrt, min_samples_leaf=3, min_samples_split=10, n_estimators=288; total time=   0.7s\n",
      "[CV] END bootstrap=False, max_depth=60, max_features=sqrt, min_samples_leaf=4, min_samples_split=10, n_estimators=822; total time=   4.5s\n",
      "[CV] END bootstrap=False, max_depth=60, max_features=sqrt, min_samples_leaf=4, min_samples_split=10, n_estimators=822; total time=   4.3s\n",
      "[CV] END bootstrap=False, max_depth=60, max_features=sqrt, min_samples_leaf=4, min_samples_split=10, n_estimators=822; total time=   4.5s\n",
      "[CV] END bootstrap=True, max_depth=40, max_features=sqrt, min_samples_leaf=1, min_samples_split=10, n_estimators=911; total time=   5.0s\n",
      "[CV] END bootstrap=True, max_depth=40, max_features=sqrt, min_samples_leaf=1, min_samples_split=10, n_estimators=911; total time=   5.5s\n",
      "[CV] END bootstrap=True, max_depth=40, max_features=sqrt, min_samples_leaf=1, min_samples_split=10, n_estimators=911; total time=   5.0s\n",
      "[CV] END bootstrap=False, max_depth=70, max_features=1, min_samples_leaf=2, min_samples_split=8, n_estimators=555; total time=   2.7s\n",
      "[CV] END bootstrap=False, max_depth=70, max_features=1, min_samples_leaf=2, min_samples_split=8, n_estimators=555; total time=   2.7s\n",
      "[CV] END bootstrap=False, max_depth=70, max_features=1, min_samples_leaf=2, min_samples_split=8, n_estimators=555; total time=   2.8s\n",
      "[CV] END bootstrap=True, max_depth=20, max_features=sqrt, min_samples_leaf=2, min_samples_split=2, n_estimators=1000; total time=   6.8s\n",
      "[CV] END bootstrap=True, max_depth=20, max_features=sqrt, min_samples_leaf=2, min_samples_split=2, n_estimators=1000; total time=   6.5s\n",
      "[CV] END bootstrap=True, max_depth=20, max_features=sqrt, min_samples_leaf=2, min_samples_split=2, n_estimators=1000; total time=   6.1s\n",
      "[CV] END bootstrap=False, max_depth=110, max_features=sqrt, min_samples_leaf=5, min_samples_split=5, n_estimators=555; total time=   2.9s\n",
      "[CV] END bootstrap=False, max_depth=110, max_features=sqrt, min_samples_leaf=5, min_samples_split=5, n_estimators=555; total time=   2.9s\n",
      "[CV] END bootstrap=False, max_depth=110, max_features=sqrt, min_samples_leaf=5, min_samples_split=5, n_estimators=555; total time=   2.9s\n",
      "[CV] END bootstrap=True, max_depth=50, max_features=1, min_samples_leaf=4, min_samples_split=2, n_estimators=822; total time=   2.6s\n",
      "[CV] END bootstrap=True, max_depth=50, max_features=1, min_samples_leaf=4, min_samples_split=2, n_estimators=822; total time=   2.5s\n",
      "[CV] END bootstrap=True, max_depth=50, max_features=1, min_samples_leaf=4, min_samples_split=2, n_estimators=822; total time=   2.5s\n",
      "[CV] END bootstrap=False, max_depth=70, max_features=1, min_samples_leaf=3, min_samples_split=8, n_estimators=200; total time=   0.8s\n",
      "[CV] END bootstrap=False, max_depth=70, max_features=1, min_samples_leaf=3, min_samples_split=8, n_estimators=200; total time=   0.7s\n",
      "[CV] END bootstrap=False, max_depth=70, max_features=1, min_samples_leaf=3, min_samples_split=8, n_estimators=200; total time=   0.8s\n",
      "[CV] END bootstrap=False, max_depth=80, max_features=sqrt, min_samples_leaf=2, min_samples_split=10, n_estimators=466; total time=   2.7s\n",
      "[CV] END bootstrap=False, max_depth=80, max_features=sqrt, min_samples_leaf=2, min_samples_split=10, n_estimators=466; total time=   2.7s\n",
      "[CV] END bootstrap=False, max_depth=80, max_features=sqrt, min_samples_leaf=2, min_samples_split=10, n_estimators=466; total time=   2.9s\n"
     ]
    },
    {
     "data": {
      "text/plain": "RandomizedSearchCV(cv=3, estimator=RandomForestRegressor(), n_iter=50,\n                   param_distributions={'bootstrap': [True, False],\n                                        'max_depth': [10, 20, 30, 40, 50, 60,\n                                                      70, 80, 90, 100, 110,\n                                                      None],\n                                        'max_features': [1, 'sqrt'],\n                                        'min_samples_leaf': [1, 2, 3, 4, 5],\n                                        'min_samples_split': [2, 5, 8, 10, 12],\n                                        'n_estimators': [200, 288, 377, 466,\n                                                         555, 644, 733, 822,\n                                                         911, 1000]},\n                   verbose=2)",
      "text/html": "<style>#sk-container-id-1 {color: black;}#sk-container-id-1 pre{padding: 0;}#sk-container-id-1 div.sk-toggleable {background-color: white;}#sk-container-id-1 label.sk-toggleable__label {cursor: pointer;display: block;width: 100%;margin-bottom: 0;padding: 0.3em;box-sizing: border-box;text-align: center;}#sk-container-id-1 label.sk-toggleable__label-arrow:before {content: \"▸\";float: left;margin-right: 0.25em;color: #696969;}#sk-container-id-1 label.sk-toggleable__label-arrow:hover:before {color: black;}#sk-container-id-1 div.sk-estimator:hover label.sk-toggleable__label-arrow:before {color: black;}#sk-container-id-1 div.sk-toggleable__content {max-height: 0;max-width: 0;overflow: hidden;text-align: left;background-color: #f0f8ff;}#sk-container-id-1 div.sk-toggleable__content pre {margin: 0.2em;color: black;border-radius: 0.25em;background-color: #f0f8ff;}#sk-container-id-1 input.sk-toggleable__control:checked~div.sk-toggleable__content {max-height: 200px;max-width: 100%;overflow: auto;}#sk-container-id-1 input.sk-toggleable__control:checked~label.sk-toggleable__label-arrow:before {content: \"▾\";}#sk-container-id-1 div.sk-estimator input.sk-toggleable__control:checked~label.sk-toggleable__label {background-color: #d4ebff;}#sk-container-id-1 div.sk-label input.sk-toggleable__control:checked~label.sk-toggleable__label {background-color: #d4ebff;}#sk-container-id-1 input.sk-hidden--visually {border: 0;clip: rect(1px 1px 1px 1px);clip: rect(1px, 1px, 1px, 1px);height: 1px;margin: -1px;overflow: hidden;padding: 0;position: absolute;width: 1px;}#sk-container-id-1 div.sk-estimator {font-family: monospace;background-color: #f0f8ff;border: 1px dotted black;border-radius: 0.25em;box-sizing: border-box;margin-bottom: 0.5em;}#sk-container-id-1 div.sk-estimator:hover {background-color: #d4ebff;}#sk-container-id-1 div.sk-parallel-item::after {content: \"\";width: 100%;border-bottom: 1px solid gray;flex-grow: 1;}#sk-container-id-1 div.sk-label:hover label.sk-toggleable__label {background-color: #d4ebff;}#sk-container-id-1 div.sk-serial::before {content: \"\";position: absolute;border-left: 1px solid gray;box-sizing: border-box;top: 0;bottom: 0;left: 50%;z-index: 0;}#sk-container-id-1 div.sk-serial {display: flex;flex-direction: column;align-items: center;background-color: white;padding-right: 0.2em;padding-left: 0.2em;position: relative;}#sk-container-id-1 div.sk-item {position: relative;z-index: 1;}#sk-container-id-1 div.sk-parallel {display: flex;align-items: stretch;justify-content: center;background-color: white;position: relative;}#sk-container-id-1 div.sk-item::before, #sk-container-id-1 div.sk-parallel-item::before {content: \"\";position: absolute;border-left: 1px solid gray;box-sizing: border-box;top: 0;bottom: 0;left: 50%;z-index: -1;}#sk-container-id-1 div.sk-parallel-item {display: flex;flex-direction: column;z-index: 1;position: relative;background-color: white;}#sk-container-id-1 div.sk-parallel-item:first-child::after {align-self: flex-end;width: 50%;}#sk-container-id-1 div.sk-parallel-item:last-child::after {align-self: flex-start;width: 50%;}#sk-container-id-1 div.sk-parallel-item:only-child::after {width: 0;}#sk-container-id-1 div.sk-dashed-wrapped {border: 1px dashed gray;margin: 0 0.4em 0.5em 0.4em;box-sizing: border-box;padding-bottom: 0.4em;background-color: white;}#sk-container-id-1 div.sk-label label {font-family: monospace;font-weight: bold;display: inline-block;line-height: 1.2em;}#sk-container-id-1 div.sk-label-container {text-align: center;}#sk-container-id-1 div.sk-container {/* jupyter's `normalize.less` sets `[hidden] { display: none; }` but bootstrap.min.css set `[hidden] { display: none !important; }` so we also need the `!important` here to be able to override the default hidden behavior on the sphinx rendered scikit-learn.org. See: https://github.com/scikit-learn/scikit-learn/issues/21755 */display: inline-block !important;position: relative;}#sk-container-id-1 div.sk-text-repr-fallback {display: none;}</style><div id=\"sk-container-id-1\" class=\"sk-top-container\"><div class=\"sk-text-repr-fallback\"><pre>RandomizedSearchCV(cv=3, estimator=RandomForestRegressor(), n_iter=50,\n                   param_distributions={&#x27;bootstrap&#x27;: [True, False],\n                                        &#x27;max_depth&#x27;: [10, 20, 30, 40, 50, 60,\n                                                      70, 80, 90, 100, 110,\n                                                      None],\n                                        &#x27;max_features&#x27;: [1, &#x27;sqrt&#x27;],\n                                        &#x27;min_samples_leaf&#x27;: [1, 2, 3, 4, 5],\n                                        &#x27;min_samples_split&#x27;: [2, 5, 8, 10, 12],\n                                        &#x27;n_estimators&#x27;: [200, 288, 377, 466,\n                                                         555, 644, 733, 822,\n                                                         911, 1000]},\n                   verbose=2)</pre><b>In a Jupyter environment, please rerun this cell to show the HTML representation or trust the notebook. <br />On GitHub, the HTML representation is unable to render, please try loading this page with nbviewer.org.</b></div><div class=\"sk-container\" hidden><div class=\"sk-item sk-dashed-wrapped\"><div class=\"sk-label-container\"><div class=\"sk-label sk-toggleable\"><input class=\"sk-toggleable__control sk-hidden--visually\" id=\"sk-estimator-id-1\" type=\"checkbox\" ><label for=\"sk-estimator-id-1\" class=\"sk-toggleable__label sk-toggleable__label-arrow\">RandomizedSearchCV</label><div class=\"sk-toggleable__content\"><pre>RandomizedSearchCV(cv=3, estimator=RandomForestRegressor(), n_iter=50,\n                   param_distributions={&#x27;bootstrap&#x27;: [True, False],\n                                        &#x27;max_depth&#x27;: [10, 20, 30, 40, 50, 60,\n                                                      70, 80, 90, 100, 110,\n                                                      None],\n                                        &#x27;max_features&#x27;: [1, &#x27;sqrt&#x27;],\n                                        &#x27;min_samples_leaf&#x27;: [1, 2, 3, 4, 5],\n                                        &#x27;min_samples_split&#x27;: [2, 5, 8, 10, 12],\n                                        &#x27;n_estimators&#x27;: [200, 288, 377, 466,\n                                                         555, 644, 733, 822,\n                                                         911, 1000]},\n                   verbose=2)</pre></div></div></div><div class=\"sk-parallel\"><div class=\"sk-parallel-item\"><div class=\"sk-item\"><div class=\"sk-label-container\"><div class=\"sk-label sk-toggleable\"><input class=\"sk-toggleable__control sk-hidden--visually\" id=\"sk-estimator-id-2\" type=\"checkbox\" ><label for=\"sk-estimator-id-2\" class=\"sk-toggleable__label sk-toggleable__label-arrow\">estimator: RandomForestRegressor</label><div class=\"sk-toggleable__content\"><pre>RandomForestRegressor()</pre></div></div></div><div class=\"sk-serial\"><div class=\"sk-item\"><div class=\"sk-estimator sk-toggleable\"><input class=\"sk-toggleable__control sk-hidden--visually\" id=\"sk-estimator-id-3\" type=\"checkbox\" ><label for=\"sk-estimator-id-3\" class=\"sk-toggleable__label sk-toggleable__label-arrow\">RandomForestRegressor</label><div class=\"sk-toggleable__content\"><pre>RandomForestRegressor()</pre></div></div></div></div></div></div></div></div></div></div>"
     },
     "execution_count": 13,
     "metadata": {},
     "output_type": "execute_result"
    }
   ],
   "source": [
    "rf = RandomForestRegressor()\n",
    "\n",
    "rf_random = RandomizedSearchCV(estimator = rf, param_distributions=random_grid, n_iter=50, cv=3, verbose=2)\n",
    "\n",
    "rf_random.fit(X_train, y_train)"
   ],
   "metadata": {
    "collapsed": false,
    "ExecuteTime": {
     "end_time": "2023-12-08T00:28:10.974591300Z",
     "start_time": "2023-12-08T00:20:33.313906700Z"
    }
   }
  },
  {
   "cell_type": "code",
   "execution_count": 14,
   "outputs": [
    {
     "data": {
      "text/plain": "{'n_estimators': 644,\n 'min_samples_split': 10,\n 'min_samples_leaf': 2,\n 'max_features': 'sqrt',\n 'max_depth': 40,\n 'bootstrap': True}"
     },
     "execution_count": 14,
     "metadata": {},
     "output_type": "execute_result"
    }
   ],
   "source": [
    "rf_random.best_params_"
   ],
   "metadata": {
    "collapsed": false,
    "ExecuteTime": {
     "end_time": "2023-12-08T00:28:10.982336700Z",
     "start_time": "2023-12-08T00:28:10.975592200Z"
    }
   }
  },
  {
   "cell_type": "code",
   "execution_count": 17,
   "outputs": [],
   "source": [
    "from sklearn.model_selection import GridSearchCV\n",
    "n_estimators = [600, 625, 650, 675, 700]\n",
    "max_features = ['sqrt']\n",
    "max_depth = [30, 40, 50]\n",
    "min_samples_split = [9, 10, 11]\n",
    "min_samples_leaf = [1,2,3]\n",
    "bootstrap = [True]\n",
    "\n",
    "second_grid = {'n_estimators': n_estimators,\n",
    "               'max_features': max_features,\n",
    "               'max_depth': max_depth,\n",
    "               'min_samples_split': min_samples_split,\n",
    "               'min_samples_leaf': min_samples_leaf,\n",
    "               'bootstrap': bootstrap}\n"
   ],
   "metadata": {
    "collapsed": false,
    "ExecuteTime": {
     "end_time": "2023-12-08T00:29:28.089932100Z",
     "start_time": "2023-12-08T00:29:28.088188100Z"
    }
   }
  },
  {
   "cell_type": "code",
   "execution_count": 18,
   "outputs": [
    {
     "name": "stdout",
     "output_type": "stream",
     "text": [
      "Fitting 3 folds for each of 135 candidates, totalling 405 fits\n",
      "[CV] END bootstrap=True, max_depth=30, max_features=sqrt, min_samples_leaf=1, min_samples_split=9, n_estimators=600; total time=   3.6s\n",
      "[CV] END bootstrap=True, max_depth=30, max_features=sqrt, min_samples_leaf=1, min_samples_split=9, n_estimators=600; total time=   3.2s\n",
      "[CV] END bootstrap=True, max_depth=30, max_features=sqrt, min_samples_leaf=1, min_samples_split=9, n_estimators=600; total time=   3.2s\n",
      "[CV] END bootstrap=True, max_depth=30, max_features=sqrt, min_samples_leaf=1, min_samples_split=9, n_estimators=625; total time=   3.4s\n",
      "[CV] END bootstrap=True, max_depth=30, max_features=sqrt, min_samples_leaf=1, min_samples_split=9, n_estimators=625; total time=   3.4s\n",
      "[CV] END bootstrap=True, max_depth=30, max_features=sqrt, min_samples_leaf=1, min_samples_split=9, n_estimators=625; total time=   3.3s\n",
      "[CV] END bootstrap=True, max_depth=30, max_features=sqrt, min_samples_leaf=1, min_samples_split=9, n_estimators=650; total time=   3.5s\n",
      "[CV] END bootstrap=True, max_depth=30, max_features=sqrt, min_samples_leaf=1, min_samples_split=9, n_estimators=650; total time=   3.6s\n",
      "[CV] END bootstrap=True, max_depth=30, max_features=sqrt, min_samples_leaf=1, min_samples_split=9, n_estimators=650; total time=   3.5s\n",
      "[CV] END bootstrap=True, max_depth=30, max_features=sqrt, min_samples_leaf=1, min_samples_split=9, n_estimators=675; total time=   3.6s\n",
      "[CV] END bootstrap=True, max_depth=30, max_features=sqrt, min_samples_leaf=1, min_samples_split=9, n_estimators=675; total time=   3.6s\n",
      "[CV] END bootstrap=True, max_depth=30, max_features=sqrt, min_samples_leaf=1, min_samples_split=9, n_estimators=675; total time=   3.6s\n",
      "[CV] END bootstrap=True, max_depth=30, max_features=sqrt, min_samples_leaf=1, min_samples_split=9, n_estimators=700; total time=   3.9s\n",
      "[CV] END bootstrap=True, max_depth=30, max_features=sqrt, min_samples_leaf=1, min_samples_split=9, n_estimators=700; total time=   3.8s\n",
      "[CV] END bootstrap=True, max_depth=30, max_features=sqrt, min_samples_leaf=1, min_samples_split=9, n_estimators=700; total time=   3.9s\n",
      "[CV] END bootstrap=True, max_depth=30, max_features=sqrt, min_samples_leaf=1, min_samples_split=10, n_estimators=600; total time=   3.1s\n",
      "[CV] END bootstrap=True, max_depth=30, max_features=sqrt, min_samples_leaf=1, min_samples_split=10, n_estimators=600; total time=   3.1s\n",
      "[CV] END bootstrap=True, max_depth=30, max_features=sqrt, min_samples_leaf=1, min_samples_split=10, n_estimators=600; total time=   3.1s\n",
      "[CV] END bootstrap=True, max_depth=30, max_features=sqrt, min_samples_leaf=1, min_samples_split=10, n_estimators=625; total time=   3.5s\n",
      "[CV] END bootstrap=True, max_depth=30, max_features=sqrt, min_samples_leaf=1, min_samples_split=10, n_estimators=625; total time=   3.4s\n",
      "[CV] END bootstrap=True, max_depth=30, max_features=sqrt, min_samples_leaf=1, min_samples_split=10, n_estimators=625; total time=   3.4s\n",
      "[CV] END bootstrap=True, max_depth=30, max_features=sqrt, min_samples_leaf=1, min_samples_split=10, n_estimators=650; total time=   3.5s\n",
      "[CV] END bootstrap=True, max_depth=30, max_features=sqrt, min_samples_leaf=1, min_samples_split=10, n_estimators=650; total time=   3.5s\n",
      "[CV] END bootstrap=True, max_depth=30, max_features=sqrt, min_samples_leaf=1, min_samples_split=10, n_estimators=650; total time=   3.9s\n",
      "[CV] END bootstrap=True, max_depth=30, max_features=sqrt, min_samples_leaf=1, min_samples_split=10, n_estimators=675; total time=   3.7s\n",
      "[CV] END bootstrap=True, max_depth=30, max_features=sqrt, min_samples_leaf=1, min_samples_split=10, n_estimators=675; total time=   3.8s\n",
      "[CV] END bootstrap=True, max_depth=30, max_features=sqrt, min_samples_leaf=1, min_samples_split=10, n_estimators=675; total time=   3.8s\n",
      "[CV] END bootstrap=True, max_depth=30, max_features=sqrt, min_samples_leaf=1, min_samples_split=10, n_estimators=700; total time=   3.7s\n",
      "[CV] END bootstrap=True, max_depth=30, max_features=sqrt, min_samples_leaf=1, min_samples_split=10, n_estimators=700; total time=   3.8s\n",
      "[CV] END bootstrap=True, max_depth=30, max_features=sqrt, min_samples_leaf=1, min_samples_split=10, n_estimators=700; total time=   3.7s\n",
      "[CV] END bootstrap=True, max_depth=30, max_features=sqrt, min_samples_leaf=1, min_samples_split=11, n_estimators=600; total time=   3.4s\n",
      "[CV] END bootstrap=True, max_depth=30, max_features=sqrt, min_samples_leaf=1, min_samples_split=11, n_estimators=600; total time=   3.2s\n",
      "[CV] END bootstrap=True, max_depth=30, max_features=sqrt, min_samples_leaf=1, min_samples_split=11, n_estimators=600; total time=   3.2s\n",
      "[CV] END bootstrap=True, max_depth=30, max_features=sqrt, min_samples_leaf=1, min_samples_split=11, n_estimators=625; total time=   3.3s\n",
      "[CV] END bootstrap=True, max_depth=30, max_features=sqrt, min_samples_leaf=1, min_samples_split=11, n_estimators=625; total time=   3.1s\n",
      "[CV] END bootstrap=True, max_depth=30, max_features=sqrt, min_samples_leaf=1, min_samples_split=11, n_estimators=625; total time=   3.2s\n",
      "[CV] END bootstrap=True, max_depth=30, max_features=sqrt, min_samples_leaf=1, min_samples_split=11, n_estimators=650; total time=   3.3s\n",
      "[CV] END bootstrap=True, max_depth=30, max_features=sqrt, min_samples_leaf=1, min_samples_split=11, n_estimators=650; total time=   3.3s\n",
      "[CV] END bootstrap=True, max_depth=30, max_features=sqrt, min_samples_leaf=1, min_samples_split=11, n_estimators=650; total time=   3.4s\n",
      "[CV] END bootstrap=True, max_depth=30, max_features=sqrt, min_samples_leaf=1, min_samples_split=11, n_estimators=675; total time=   3.7s\n",
      "[CV] END bootstrap=True, max_depth=30, max_features=sqrt, min_samples_leaf=1, min_samples_split=11, n_estimators=675; total time=   3.5s\n",
      "[CV] END bootstrap=True, max_depth=30, max_features=sqrt, min_samples_leaf=1, min_samples_split=11, n_estimators=675; total time=   3.5s\n",
      "[CV] END bootstrap=True, max_depth=30, max_features=sqrt, min_samples_leaf=1, min_samples_split=11, n_estimators=700; total time=   3.7s\n",
      "[CV] END bootstrap=True, max_depth=30, max_features=sqrt, min_samples_leaf=1, min_samples_split=11, n_estimators=700; total time=   3.6s\n",
      "[CV] END bootstrap=True, max_depth=30, max_features=sqrt, min_samples_leaf=1, min_samples_split=11, n_estimators=700; total time=   3.6s\n",
      "[CV] END bootstrap=True, max_depth=30, max_features=sqrt, min_samples_leaf=2, min_samples_split=9, n_estimators=600; total time=   3.0s\n",
      "[CV] END bootstrap=True, max_depth=30, max_features=sqrt, min_samples_leaf=2, min_samples_split=9, n_estimators=600; total time=   2.9s\n",
      "[CV] END bootstrap=True, max_depth=30, max_features=sqrt, min_samples_leaf=2, min_samples_split=9, n_estimators=600; total time=   3.0s\n",
      "[CV] END bootstrap=True, max_depth=30, max_features=sqrt, min_samples_leaf=2, min_samples_split=9, n_estimators=625; total time=   3.3s\n",
      "[CV] END bootstrap=True, max_depth=30, max_features=sqrt, min_samples_leaf=2, min_samples_split=9, n_estimators=625; total time=   3.1s\n",
      "[CV] END bootstrap=True, max_depth=30, max_features=sqrt, min_samples_leaf=2, min_samples_split=9, n_estimators=625; total time=   3.1s\n",
      "[CV] END bootstrap=True, max_depth=30, max_features=sqrt, min_samples_leaf=2, min_samples_split=9, n_estimators=650; total time=   3.3s\n",
      "[CV] END bootstrap=True, max_depth=30, max_features=sqrt, min_samples_leaf=2, min_samples_split=9, n_estimators=650; total time=   3.3s\n",
      "[CV] END bootstrap=True, max_depth=30, max_features=sqrt, min_samples_leaf=2, min_samples_split=9, n_estimators=650; total time=   3.2s\n",
      "[CV] END bootstrap=True, max_depth=30, max_features=sqrt, min_samples_leaf=2, min_samples_split=9, n_estimators=675; total time=   3.4s\n",
      "[CV] END bootstrap=True, max_depth=30, max_features=sqrt, min_samples_leaf=2, min_samples_split=9, n_estimators=675; total time=   3.3s\n",
      "[CV] END bootstrap=True, max_depth=30, max_features=sqrt, min_samples_leaf=2, min_samples_split=9, n_estimators=675; total time=   3.3s\n",
      "[CV] END bootstrap=True, max_depth=30, max_features=sqrt, min_samples_leaf=2, min_samples_split=9, n_estimators=700; total time=   3.6s\n",
      "[CV] END bootstrap=True, max_depth=30, max_features=sqrt, min_samples_leaf=2, min_samples_split=9, n_estimators=700; total time=   3.4s\n",
      "[CV] END bootstrap=True, max_depth=30, max_features=sqrt, min_samples_leaf=2, min_samples_split=9, n_estimators=700; total time=   3.4s\n",
      "[CV] END bootstrap=True, max_depth=30, max_features=sqrt, min_samples_leaf=2, min_samples_split=10, n_estimators=600; total time=   2.9s\n",
      "[CV] END bootstrap=True, max_depth=30, max_features=sqrt, min_samples_leaf=2, min_samples_split=10, n_estimators=600; total time=   2.8s\n",
      "[CV] END bootstrap=True, max_depth=30, max_features=sqrt, min_samples_leaf=2, min_samples_split=10, n_estimators=600; total time=   2.8s\n",
      "[CV] END bootstrap=True, max_depth=30, max_features=sqrt, min_samples_leaf=2, min_samples_split=10, n_estimators=625; total time=   2.9s\n",
      "[CV] END bootstrap=True, max_depth=30, max_features=sqrt, min_samples_leaf=2, min_samples_split=10, n_estimators=625; total time=   2.9s\n",
      "[CV] END bootstrap=True, max_depth=30, max_features=sqrt, min_samples_leaf=2, min_samples_split=10, n_estimators=625; total time=   2.9s\n",
      "[CV] END bootstrap=True, max_depth=30, max_features=sqrt, min_samples_leaf=2, min_samples_split=10, n_estimators=650; total time=   3.2s\n",
      "[CV] END bootstrap=True, max_depth=30, max_features=sqrt, min_samples_leaf=2, min_samples_split=10, n_estimators=650; total time=   3.3s\n",
      "[CV] END bootstrap=True, max_depth=30, max_features=sqrt, min_samples_leaf=2, min_samples_split=10, n_estimators=650; total time=   3.5s\n",
      "[CV] END bootstrap=True, max_depth=30, max_features=sqrt, min_samples_leaf=2, min_samples_split=10, n_estimators=675; total time=   3.6s\n",
      "[CV] END bootstrap=True, max_depth=30, max_features=sqrt, min_samples_leaf=2, min_samples_split=10, n_estimators=675; total time=   3.2s\n",
      "[CV] END bootstrap=True, max_depth=30, max_features=sqrt, min_samples_leaf=2, min_samples_split=10, n_estimators=675; total time=   3.3s\n",
      "[CV] END bootstrap=True, max_depth=30, max_features=sqrt, min_samples_leaf=2, min_samples_split=10, n_estimators=700; total time=   3.4s\n",
      "[CV] END bootstrap=True, max_depth=30, max_features=sqrt, min_samples_leaf=2, min_samples_split=10, n_estimators=700; total time=   3.3s\n",
      "[CV] END bootstrap=True, max_depth=30, max_features=sqrt, min_samples_leaf=2, min_samples_split=10, n_estimators=700; total time=   3.3s\n",
      "[CV] END bootstrap=True, max_depth=30, max_features=sqrt, min_samples_leaf=2, min_samples_split=11, n_estimators=600; total time=   2.7s\n",
      "[CV] END bootstrap=True, max_depth=30, max_features=sqrt, min_samples_leaf=2, min_samples_split=11, n_estimators=600; total time=   2.7s\n",
      "[CV] END bootstrap=True, max_depth=30, max_features=sqrt, min_samples_leaf=2, min_samples_split=11, n_estimators=600; total time=   2.7s\n",
      "[CV] END bootstrap=True, max_depth=30, max_features=sqrt, min_samples_leaf=2, min_samples_split=11, n_estimators=625; total time=   2.8s\n",
      "[CV] END bootstrap=True, max_depth=30, max_features=sqrt, min_samples_leaf=2, min_samples_split=11, n_estimators=625; total time=   2.8s\n",
      "[CV] END bootstrap=True, max_depth=30, max_features=sqrt, min_samples_leaf=2, min_samples_split=11, n_estimators=625; total time=   2.8s\n",
      "[CV] END bootstrap=True, max_depth=30, max_features=sqrt, min_samples_leaf=2, min_samples_split=11, n_estimators=650; total time=   2.9s\n",
      "[CV] END bootstrap=True, max_depth=30, max_features=sqrt, min_samples_leaf=2, min_samples_split=11, n_estimators=650; total time=   3.0s\n",
      "[CV] END bootstrap=True, max_depth=30, max_features=sqrt, min_samples_leaf=2, min_samples_split=11, n_estimators=650; total time=   3.0s\n",
      "[CV] END bootstrap=True, max_depth=30, max_features=sqrt, min_samples_leaf=2, min_samples_split=11, n_estimators=675; total time=   3.0s\n",
      "[CV] END bootstrap=True, max_depth=30, max_features=sqrt, min_samples_leaf=2, min_samples_split=11, n_estimators=675; total time=   3.2s\n",
      "[CV] END bootstrap=True, max_depth=30, max_features=sqrt, min_samples_leaf=2, min_samples_split=11, n_estimators=675; total time=   3.1s\n",
      "[CV] END bootstrap=True, max_depth=30, max_features=sqrt, min_samples_leaf=2, min_samples_split=11, n_estimators=700; total time=   3.2s\n",
      "[CV] END bootstrap=True, max_depth=30, max_features=sqrt, min_samples_leaf=2, min_samples_split=11, n_estimators=700; total time=   3.2s\n",
      "[CV] END bootstrap=True, max_depth=30, max_features=sqrt, min_samples_leaf=2, min_samples_split=11, n_estimators=700; total time=   3.2s\n",
      "[CV] END bootstrap=True, max_depth=30, max_features=sqrt, min_samples_leaf=3, min_samples_split=9, n_estimators=600; total time=   2.6s\n",
      "[CV] END bootstrap=True, max_depth=30, max_features=sqrt, min_samples_leaf=3, min_samples_split=9, n_estimators=600; total time=   2.7s\n",
      "[CV] END bootstrap=True, max_depth=30, max_features=sqrt, min_samples_leaf=3, min_samples_split=9, n_estimators=600; total time=   2.6s\n",
      "[CV] END bootstrap=True, max_depth=30, max_features=sqrt, min_samples_leaf=3, min_samples_split=9, n_estimators=625; total time=   2.7s\n",
      "[CV] END bootstrap=True, max_depth=30, max_features=sqrt, min_samples_leaf=3, min_samples_split=9, n_estimators=625; total time=   2.7s\n",
      "[CV] END bootstrap=True, max_depth=30, max_features=sqrt, min_samples_leaf=3, min_samples_split=9, n_estimators=625; total time=   2.7s\n",
      "[CV] END bootstrap=True, max_depth=30, max_features=sqrt, min_samples_leaf=3, min_samples_split=9, n_estimators=650; total time=   2.8s\n",
      "[CV] END bootstrap=True, max_depth=30, max_features=sqrt, min_samples_leaf=3, min_samples_split=9, n_estimators=650; total time=   2.9s\n",
      "[CV] END bootstrap=True, max_depth=30, max_features=sqrt, min_samples_leaf=3, min_samples_split=9, n_estimators=650; total time=   3.0s\n",
      "[CV] END bootstrap=True, max_depth=30, max_features=sqrt, min_samples_leaf=3, min_samples_split=9, n_estimators=675; total time=   2.9s\n",
      "[CV] END bootstrap=True, max_depth=30, max_features=sqrt, min_samples_leaf=3, min_samples_split=9, n_estimators=675; total time=   3.0s\n",
      "[CV] END bootstrap=True, max_depth=30, max_features=sqrt, min_samples_leaf=3, min_samples_split=9, n_estimators=675; total time=   3.0s\n",
      "[CV] END bootstrap=True, max_depth=30, max_features=sqrt, min_samples_leaf=3, min_samples_split=9, n_estimators=700; total time=   3.0s\n",
      "[CV] END bootstrap=True, max_depth=30, max_features=sqrt, min_samples_leaf=3, min_samples_split=9, n_estimators=700; total time=   3.1s\n",
      "[CV] END bootstrap=True, max_depth=30, max_features=sqrt, min_samples_leaf=3, min_samples_split=9, n_estimators=700; total time=   3.1s\n",
      "[CV] END bootstrap=True, max_depth=30, max_features=sqrt, min_samples_leaf=3, min_samples_split=10, n_estimators=600; total time=   2.7s\n",
      "[CV] END bootstrap=True, max_depth=30, max_features=sqrt, min_samples_leaf=3, min_samples_split=10, n_estimators=600; total time=   2.6s\n",
      "[CV] END bootstrap=True, max_depth=30, max_features=sqrt, min_samples_leaf=3, min_samples_split=10, n_estimators=600; total time=   2.5s\n",
      "[CV] END bootstrap=True, max_depth=30, max_features=sqrt, min_samples_leaf=3, min_samples_split=10, n_estimators=625; total time=   2.6s\n",
      "[CV] END bootstrap=True, max_depth=30, max_features=sqrt, min_samples_leaf=3, min_samples_split=10, n_estimators=625; total time=   2.7s\n",
      "[CV] END bootstrap=True, max_depth=30, max_features=sqrt, min_samples_leaf=3, min_samples_split=10, n_estimators=625; total time=   2.6s\n",
      "[CV] END bootstrap=True, max_depth=30, max_features=sqrt, min_samples_leaf=3, min_samples_split=10, n_estimators=650; total time=   2.7s\n",
      "[CV] END bootstrap=True, max_depth=30, max_features=sqrt, min_samples_leaf=3, min_samples_split=10, n_estimators=650; total time=   2.8s\n",
      "[CV] END bootstrap=True, max_depth=30, max_features=sqrt, min_samples_leaf=3, min_samples_split=10, n_estimators=650; total time=   2.8s\n",
      "[CV] END bootstrap=True, max_depth=30, max_features=sqrt, min_samples_leaf=3, min_samples_split=10, n_estimators=675; total time=   2.9s\n",
      "[CV] END bootstrap=True, max_depth=30, max_features=sqrt, min_samples_leaf=3, min_samples_split=10, n_estimators=675; total time=   3.0s\n",
      "[CV] END bootstrap=True, max_depth=30, max_features=sqrt, min_samples_leaf=3, min_samples_split=10, n_estimators=675; total time=   2.9s\n",
      "[CV] END bootstrap=True, max_depth=30, max_features=sqrt, min_samples_leaf=3, min_samples_split=10, n_estimators=700; total time=   3.0s\n",
      "[CV] END bootstrap=True, max_depth=30, max_features=sqrt, min_samples_leaf=3, min_samples_split=10, n_estimators=700; total time=   3.0s\n",
      "[CV] END bootstrap=True, max_depth=30, max_features=sqrt, min_samples_leaf=3, min_samples_split=10, n_estimators=700; total time=   3.0s\n",
      "[CV] END bootstrap=True, max_depth=30, max_features=sqrt, min_samples_leaf=3, min_samples_split=11, n_estimators=600; total time=   2.5s\n",
      "[CV] END bootstrap=True, max_depth=30, max_features=sqrt, min_samples_leaf=3, min_samples_split=11, n_estimators=600; total time=   2.5s\n",
      "[CV] END bootstrap=True, max_depth=30, max_features=sqrt, min_samples_leaf=3, min_samples_split=11, n_estimators=600; total time=   2.5s\n",
      "[CV] END bootstrap=True, max_depth=30, max_features=sqrt, min_samples_leaf=3, min_samples_split=11, n_estimators=625; total time=   2.6s\n",
      "[CV] END bootstrap=True, max_depth=30, max_features=sqrt, min_samples_leaf=3, min_samples_split=11, n_estimators=625; total time=   2.6s\n",
      "[CV] END bootstrap=True, max_depth=30, max_features=sqrt, min_samples_leaf=3, min_samples_split=11, n_estimators=625; total time=   2.6s\n",
      "[CV] END bootstrap=True, max_depth=30, max_features=sqrt, min_samples_leaf=3, min_samples_split=11, n_estimators=650; total time=   2.8s\n",
      "[CV] END bootstrap=True, max_depth=30, max_features=sqrt, min_samples_leaf=3, min_samples_split=11, n_estimators=650; total time=   2.7s\n",
      "[CV] END bootstrap=True, max_depth=30, max_features=sqrt, min_samples_leaf=3, min_samples_split=11, n_estimators=650; total time=   2.7s\n",
      "[CV] END bootstrap=True, max_depth=30, max_features=sqrt, min_samples_leaf=3, min_samples_split=11, n_estimators=675; total time=   2.8s\n",
      "[CV] END bootstrap=True, max_depth=30, max_features=sqrt, min_samples_leaf=3, min_samples_split=11, n_estimators=675; total time=   2.9s\n",
      "[CV] END bootstrap=True, max_depth=30, max_features=sqrt, min_samples_leaf=3, min_samples_split=11, n_estimators=675; total time=   2.8s\n",
      "[CV] END bootstrap=True, max_depth=30, max_features=sqrt, min_samples_leaf=3, min_samples_split=11, n_estimators=700; total time=   2.9s\n",
      "[CV] END bootstrap=True, max_depth=30, max_features=sqrt, min_samples_leaf=3, min_samples_split=11, n_estimators=700; total time=   3.0s\n",
      "[CV] END bootstrap=True, max_depth=30, max_features=sqrt, min_samples_leaf=3, min_samples_split=11, n_estimators=700; total time=   3.0s\n",
      "[CV] END bootstrap=True, max_depth=40, max_features=sqrt, min_samples_leaf=1, min_samples_split=9, n_estimators=600; total time=   3.2s\n",
      "[CV] END bootstrap=True, max_depth=40, max_features=sqrt, min_samples_leaf=1, min_samples_split=9, n_estimators=600; total time=   3.3s\n",
      "[CV] END bootstrap=True, max_depth=40, max_features=sqrt, min_samples_leaf=1, min_samples_split=9, n_estimators=600; total time=   3.2s\n",
      "[CV] END bootstrap=True, max_depth=40, max_features=sqrt, min_samples_leaf=1, min_samples_split=9, n_estimators=625; total time=   3.4s\n",
      "[CV] END bootstrap=True, max_depth=40, max_features=sqrt, min_samples_leaf=1, min_samples_split=9, n_estimators=625; total time=   3.6s\n",
      "[CV] END bootstrap=True, max_depth=40, max_features=sqrt, min_samples_leaf=1, min_samples_split=9, n_estimators=625; total time=   3.9s\n",
      "[CV] END bootstrap=True, max_depth=40, max_features=sqrt, min_samples_leaf=1, min_samples_split=9, n_estimators=650; total time=   3.8s\n",
      "[CV] END bootstrap=True, max_depth=40, max_features=sqrt, min_samples_leaf=1, min_samples_split=9, n_estimators=650; total time=   4.1s\n",
      "[CV] END bootstrap=True, max_depth=40, max_features=sqrt, min_samples_leaf=1, min_samples_split=9, n_estimators=650; total time=   4.2s\n",
      "[CV] END bootstrap=True, max_depth=40, max_features=sqrt, min_samples_leaf=1, min_samples_split=9, n_estimators=675; total time=   4.6s\n",
      "[CV] END bootstrap=True, max_depth=40, max_features=sqrt, min_samples_leaf=1, min_samples_split=9, n_estimators=675; total time=   3.8s\n",
      "[CV] END bootstrap=True, max_depth=40, max_features=sqrt, min_samples_leaf=1, min_samples_split=9, n_estimators=675; total time=   3.7s\n",
      "[CV] END bootstrap=True, max_depth=40, max_features=sqrt, min_samples_leaf=1, min_samples_split=9, n_estimators=700; total time=   3.9s\n",
      "[CV] END bootstrap=True, max_depth=40, max_features=sqrt, min_samples_leaf=1, min_samples_split=9, n_estimators=700; total time=   3.8s\n",
      "[CV] END bootstrap=True, max_depth=40, max_features=sqrt, min_samples_leaf=1, min_samples_split=9, n_estimators=700; total time=   3.9s\n",
      "[CV] END bootstrap=True, max_depth=40, max_features=sqrt, min_samples_leaf=1, min_samples_split=10, n_estimators=600; total time=   3.1s\n",
      "[CV] END bootstrap=True, max_depth=40, max_features=sqrt, min_samples_leaf=1, min_samples_split=10, n_estimators=600; total time=   3.1s\n",
      "[CV] END bootstrap=True, max_depth=40, max_features=sqrt, min_samples_leaf=1, min_samples_split=10, n_estimators=600; total time=   3.5s\n",
      "[CV] END bootstrap=True, max_depth=40, max_features=sqrt, min_samples_leaf=1, min_samples_split=10, n_estimators=625; total time=   3.7s\n",
      "[CV] END bootstrap=True, max_depth=40, max_features=sqrt, min_samples_leaf=1, min_samples_split=10, n_estimators=625; total time=   3.4s\n",
      "[CV] END bootstrap=True, max_depth=40, max_features=sqrt, min_samples_leaf=1, min_samples_split=10, n_estimators=625; total time=   3.3s\n",
      "[CV] END bootstrap=True, max_depth=40, max_features=sqrt, min_samples_leaf=1, min_samples_split=10, n_estimators=650; total time=   3.4s\n",
      "[CV] END bootstrap=True, max_depth=40, max_features=sqrt, min_samples_leaf=1, min_samples_split=10, n_estimators=650; total time=   3.4s\n",
      "[CV] END bootstrap=True, max_depth=40, max_features=sqrt, min_samples_leaf=1, min_samples_split=10, n_estimators=650; total time=   3.4s\n",
      "[CV] END bootstrap=True, max_depth=40, max_features=sqrt, min_samples_leaf=1, min_samples_split=10, n_estimators=675; total time=   3.5s\n",
      "[CV] END bootstrap=True, max_depth=40, max_features=sqrt, min_samples_leaf=1, min_samples_split=10, n_estimators=675; total time=   3.7s\n",
      "[CV] END bootstrap=True, max_depth=40, max_features=sqrt, min_samples_leaf=1, min_samples_split=10, n_estimators=675; total time=   4.0s\n",
      "[CV] END bootstrap=True, max_depth=40, max_features=sqrt, min_samples_leaf=1, min_samples_split=10, n_estimators=700; total time=   4.7s\n",
      "[CV] END bootstrap=True, max_depth=40, max_features=sqrt, min_samples_leaf=1, min_samples_split=10, n_estimators=700; total time=   4.0s\n",
      "[CV] END bootstrap=True, max_depth=40, max_features=sqrt, min_samples_leaf=1, min_samples_split=10, n_estimators=700; total time=   3.7s\n",
      "[CV] END bootstrap=True, max_depth=40, max_features=sqrt, min_samples_leaf=1, min_samples_split=11, n_estimators=600; total time=   3.0s\n",
      "[CV] END bootstrap=True, max_depth=40, max_features=sqrt, min_samples_leaf=1, min_samples_split=11, n_estimators=600; total time=   3.0s\n",
      "[CV] END bootstrap=True, max_depth=40, max_features=sqrt, min_samples_leaf=1, min_samples_split=11, n_estimators=600; total time=   3.0s\n",
      "[CV] END bootstrap=True, max_depth=40, max_features=sqrt, min_samples_leaf=1, min_samples_split=11, n_estimators=625; total time=   3.1s\n",
      "[CV] END bootstrap=True, max_depth=40, max_features=sqrt, min_samples_leaf=1, min_samples_split=11, n_estimators=625; total time=   3.1s\n",
      "[CV] END bootstrap=True, max_depth=40, max_features=sqrt, min_samples_leaf=1, min_samples_split=11, n_estimators=625; total time=   3.1s\n",
      "[CV] END bootstrap=True, max_depth=40, max_features=sqrt, min_samples_leaf=1, min_samples_split=11, n_estimators=650; total time=   3.2s\n",
      "[CV] END bootstrap=True, max_depth=40, max_features=sqrt, min_samples_leaf=1, min_samples_split=11, n_estimators=650; total time=   3.2s\n",
      "[CV] END bootstrap=True, max_depth=40, max_features=sqrt, min_samples_leaf=1, min_samples_split=11, n_estimators=650; total time=   3.2s\n",
      "[CV] END bootstrap=True, max_depth=40, max_features=sqrt, min_samples_leaf=1, min_samples_split=11, n_estimators=675; total time=   3.3s\n",
      "[CV] END bootstrap=True, max_depth=40, max_features=sqrt, min_samples_leaf=1, min_samples_split=11, n_estimators=675; total time=   3.4s\n",
      "[CV] END bootstrap=True, max_depth=40, max_features=sqrt, min_samples_leaf=1, min_samples_split=11, n_estimators=675; total time=   3.3s\n",
      "[CV] END bootstrap=True, max_depth=40, max_features=sqrt, min_samples_leaf=1, min_samples_split=11, n_estimators=700; total time=   3.7s\n",
      "[CV] END bootstrap=True, max_depth=40, max_features=sqrt, min_samples_leaf=1, min_samples_split=11, n_estimators=700; total time=   3.6s\n",
      "[CV] END bootstrap=True, max_depth=40, max_features=sqrt, min_samples_leaf=1, min_samples_split=11, n_estimators=700; total time=   3.5s\n",
      "[CV] END bootstrap=True, max_depth=40, max_features=sqrt, min_samples_leaf=2, min_samples_split=9, n_estimators=600; total time=   2.9s\n",
      "[CV] END bootstrap=True, max_depth=40, max_features=sqrt, min_samples_leaf=2, min_samples_split=9, n_estimators=600; total time=   2.9s\n",
      "[CV] END bootstrap=True, max_depth=40, max_features=sqrt, min_samples_leaf=2, min_samples_split=9, n_estimators=600; total time=   2.9s\n",
      "[CV] END bootstrap=True, max_depth=40, max_features=sqrt, min_samples_leaf=2, min_samples_split=9, n_estimators=625; total time=   3.0s\n",
      "[CV] END bootstrap=True, max_depth=40, max_features=sqrt, min_samples_leaf=2, min_samples_split=9, n_estimators=625; total time=   3.0s\n",
      "[CV] END bootstrap=True, max_depth=40, max_features=sqrt, min_samples_leaf=2, min_samples_split=9, n_estimators=625; total time=   3.2s\n",
      "[CV] END bootstrap=True, max_depth=40, max_features=sqrt, min_samples_leaf=2, min_samples_split=9, n_estimators=650; total time=   3.2s\n",
      "[CV] END bootstrap=True, max_depth=40, max_features=sqrt, min_samples_leaf=2, min_samples_split=9, n_estimators=650; total time=   3.1s\n",
      "[CV] END bootstrap=True, max_depth=40, max_features=sqrt, min_samples_leaf=2, min_samples_split=9, n_estimators=650; total time=   3.2s\n",
      "[CV] END bootstrap=True, max_depth=40, max_features=sqrt, min_samples_leaf=2, min_samples_split=9, n_estimators=675; total time=   3.3s\n",
      "[CV] END bootstrap=True, max_depth=40, max_features=sqrt, min_samples_leaf=2, min_samples_split=9, n_estimators=675; total time=   3.3s\n",
      "[CV] END bootstrap=True, max_depth=40, max_features=sqrt, min_samples_leaf=2, min_samples_split=9, n_estimators=675; total time=   3.2s\n",
      "[CV] END bootstrap=True, max_depth=40, max_features=sqrt, min_samples_leaf=2, min_samples_split=9, n_estimators=700; total time=   3.4s\n",
      "[CV] END bootstrap=True, max_depth=40, max_features=sqrt, min_samples_leaf=2, min_samples_split=9, n_estimators=700; total time=   3.4s\n",
      "[CV] END bootstrap=True, max_depth=40, max_features=sqrt, min_samples_leaf=2, min_samples_split=9, n_estimators=700; total time=   3.5s\n",
      "[CV] END bootstrap=True, max_depth=40, max_features=sqrt, min_samples_leaf=2, min_samples_split=10, n_estimators=600; total time=   3.0s\n",
      "[CV] END bootstrap=True, max_depth=40, max_features=sqrt, min_samples_leaf=2, min_samples_split=10, n_estimators=600; total time=   2.9s\n",
      "[CV] END bootstrap=True, max_depth=40, max_features=sqrt, min_samples_leaf=2, min_samples_split=10, n_estimators=600; total time=   2.8s\n",
      "[CV] END bootstrap=True, max_depth=40, max_features=sqrt, min_samples_leaf=2, min_samples_split=10, n_estimators=625; total time=   2.9s\n",
      "[CV] END bootstrap=True, max_depth=40, max_features=sqrt, min_samples_leaf=2, min_samples_split=10, n_estimators=625; total time=   3.0s\n",
      "[CV] END bootstrap=True, max_depth=40, max_features=sqrt, min_samples_leaf=2, min_samples_split=10, n_estimators=625; total time=   2.9s\n",
      "[CV] END bootstrap=True, max_depth=40, max_features=sqrt, min_samples_leaf=2, min_samples_split=10, n_estimators=650; total time=   3.0s\n",
      "[CV] END bootstrap=True, max_depth=40, max_features=sqrt, min_samples_leaf=2, min_samples_split=10, n_estimators=650; total time=   3.0s\n",
      "[CV] END bootstrap=True, max_depth=40, max_features=sqrt, min_samples_leaf=2, min_samples_split=10, n_estimators=650; total time=   3.0s\n",
      "[CV] END bootstrap=True, max_depth=40, max_features=sqrt, min_samples_leaf=2, min_samples_split=10, n_estimators=675; total time=   3.1s\n",
      "[CV] END bootstrap=True, max_depth=40, max_features=sqrt, min_samples_leaf=2, min_samples_split=10, n_estimators=675; total time=   3.1s\n",
      "[CV] END bootstrap=True, max_depth=40, max_features=sqrt, min_samples_leaf=2, min_samples_split=10, n_estimators=675; total time=   3.1s\n",
      "[CV] END bootstrap=True, max_depth=40, max_features=sqrt, min_samples_leaf=2, min_samples_split=10, n_estimators=700; total time=   3.2s\n",
      "[CV] END bootstrap=True, max_depth=40, max_features=sqrt, min_samples_leaf=2, min_samples_split=10, n_estimators=700; total time=   3.3s\n",
      "[CV] END bootstrap=True, max_depth=40, max_features=sqrt, min_samples_leaf=2, min_samples_split=10, n_estimators=700; total time=   3.3s\n",
      "[CV] END bootstrap=True, max_depth=40, max_features=sqrt, min_samples_leaf=2, min_samples_split=11, n_estimators=600; total time=   2.7s\n",
      "[CV] END bootstrap=True, max_depth=40, max_features=sqrt, min_samples_leaf=2, min_samples_split=11, n_estimators=600; total time=   2.7s\n",
      "[CV] END bootstrap=True, max_depth=40, max_features=sqrt, min_samples_leaf=2, min_samples_split=11, n_estimators=600; total time=   2.8s\n",
      "[CV] END bootstrap=True, max_depth=40, max_features=sqrt, min_samples_leaf=2, min_samples_split=11, n_estimators=625; total time=   3.0s\n",
      "[CV] END bootstrap=True, max_depth=40, max_features=sqrt, min_samples_leaf=2, min_samples_split=11, n_estimators=625; total time=   3.3s\n",
      "[CV] END bootstrap=True, max_depth=40, max_features=sqrt, min_samples_leaf=2, min_samples_split=11, n_estimators=625; total time=   3.2s\n",
      "[CV] END bootstrap=True, max_depth=40, max_features=sqrt, min_samples_leaf=2, min_samples_split=11, n_estimators=650; total time=   3.0s\n",
      "[CV] END bootstrap=True, max_depth=40, max_features=sqrt, min_samples_leaf=2, min_samples_split=11, n_estimators=650; total time=   2.9s\n",
      "[CV] END bootstrap=True, max_depth=40, max_features=sqrt, min_samples_leaf=2, min_samples_split=11, n_estimators=650; total time=   2.9s\n",
      "[CV] END bootstrap=True, max_depth=40, max_features=sqrt, min_samples_leaf=2, min_samples_split=11, n_estimators=675; total time=   3.1s\n",
      "[CV] END bootstrap=True, max_depth=40, max_features=sqrt, min_samples_leaf=2, min_samples_split=11, n_estimators=675; total time=   3.0s\n",
      "[CV] END bootstrap=True, max_depth=40, max_features=sqrt, min_samples_leaf=2, min_samples_split=11, n_estimators=675; total time=   3.1s\n",
      "[CV] END bootstrap=True, max_depth=40, max_features=sqrt, min_samples_leaf=2, min_samples_split=11, n_estimators=700; total time=   3.2s\n",
      "[CV] END bootstrap=True, max_depth=40, max_features=sqrt, min_samples_leaf=2, min_samples_split=11, n_estimators=700; total time=   3.1s\n",
      "[CV] END bootstrap=True, max_depth=40, max_features=sqrt, min_samples_leaf=2, min_samples_split=11, n_estimators=700; total time=   3.2s\n",
      "[CV] END bootstrap=True, max_depth=40, max_features=sqrt, min_samples_leaf=3, min_samples_split=9, n_estimators=600; total time=   2.6s\n",
      "[CV] END bootstrap=True, max_depth=40, max_features=sqrt, min_samples_leaf=3, min_samples_split=9, n_estimators=600; total time=   2.8s\n",
      "[CV] END bootstrap=True, max_depth=40, max_features=sqrt, min_samples_leaf=3, min_samples_split=9, n_estimators=600; total time=   2.9s\n",
      "[CV] END bootstrap=True, max_depth=40, max_features=sqrt, min_samples_leaf=3, min_samples_split=9, n_estimators=625; total time=   3.0s\n",
      "[CV] END bootstrap=True, max_depth=40, max_features=sqrt, min_samples_leaf=3, min_samples_split=9, n_estimators=625; total time=   3.2s\n",
      "[CV] END bootstrap=True, max_depth=40, max_features=sqrt, min_samples_leaf=3, min_samples_split=9, n_estimators=625; total time=   2.9s\n",
      "[CV] END bootstrap=True, max_depth=40, max_features=sqrt, min_samples_leaf=3, min_samples_split=9, n_estimators=650; total time=   3.3s\n",
      "[CV] END bootstrap=True, max_depth=40, max_features=sqrt, min_samples_leaf=3, min_samples_split=9, n_estimators=650; total time=   2.9s\n",
      "[CV] END bootstrap=True, max_depth=40, max_features=sqrt, min_samples_leaf=3, min_samples_split=9, n_estimators=650; total time=   2.9s\n",
      "[CV] END bootstrap=True, max_depth=40, max_features=sqrt, min_samples_leaf=3, min_samples_split=9, n_estimators=675; total time=   3.2s\n",
      "[CV] END bootstrap=True, max_depth=40, max_features=sqrt, min_samples_leaf=3, min_samples_split=9, n_estimators=675; total time=   3.0s\n",
      "[CV] END bootstrap=True, max_depth=40, max_features=sqrt, min_samples_leaf=3, min_samples_split=9, n_estimators=675; total time=   3.0s\n",
      "[CV] END bootstrap=True, max_depth=40, max_features=sqrt, min_samples_leaf=3, min_samples_split=9, n_estimators=700; total time=   3.1s\n",
      "[CV] END bootstrap=True, max_depth=40, max_features=sqrt, min_samples_leaf=3, min_samples_split=9, n_estimators=700; total time=   3.1s\n",
      "[CV] END bootstrap=True, max_depth=40, max_features=sqrt, min_samples_leaf=3, min_samples_split=9, n_estimators=700; total time=   3.0s\n",
      "[CV] END bootstrap=True, max_depth=40, max_features=sqrt, min_samples_leaf=3, min_samples_split=10, n_estimators=600; total time=   2.6s\n",
      "[CV] END bootstrap=True, max_depth=40, max_features=sqrt, min_samples_leaf=3, min_samples_split=10, n_estimators=600; total time=   2.6s\n",
      "[CV] END bootstrap=True, max_depth=40, max_features=sqrt, min_samples_leaf=3, min_samples_split=10, n_estimators=600; total time=   2.5s\n",
      "[CV] END bootstrap=True, max_depth=40, max_features=sqrt, min_samples_leaf=3, min_samples_split=10, n_estimators=625; total time=   2.6s\n",
      "[CV] END bootstrap=True, max_depth=40, max_features=sqrt, min_samples_leaf=3, min_samples_split=10, n_estimators=625; total time=   2.6s\n",
      "[CV] END bootstrap=True, max_depth=40, max_features=sqrt, min_samples_leaf=3, min_samples_split=10, n_estimators=625; total time=   2.6s\n",
      "[CV] END bootstrap=True, max_depth=40, max_features=sqrt, min_samples_leaf=3, min_samples_split=10, n_estimators=650; total time=   2.7s\n",
      "[CV] END bootstrap=True, max_depth=40, max_features=sqrt, min_samples_leaf=3, min_samples_split=10, n_estimators=650; total time=   2.8s\n",
      "[CV] END bootstrap=True, max_depth=40, max_features=sqrt, min_samples_leaf=3, min_samples_split=10, n_estimators=650; total time=   2.8s\n",
      "[CV] END bootstrap=True, max_depth=40, max_features=sqrt, min_samples_leaf=3, min_samples_split=10, n_estimators=675; total time=   2.9s\n",
      "[CV] END bootstrap=True, max_depth=40, max_features=sqrt, min_samples_leaf=3, min_samples_split=10, n_estimators=675; total time=   2.8s\n",
      "[CV] END bootstrap=True, max_depth=40, max_features=sqrt, min_samples_leaf=3, min_samples_split=10, n_estimators=675; total time=   2.9s\n",
      "[CV] END bootstrap=True, max_depth=40, max_features=sqrt, min_samples_leaf=3, min_samples_split=10, n_estimators=700; total time=   3.0s\n",
      "[CV] END bootstrap=True, max_depth=40, max_features=sqrt, min_samples_leaf=3, min_samples_split=10, n_estimators=700; total time=   3.0s\n",
      "[CV] END bootstrap=True, max_depth=40, max_features=sqrt, min_samples_leaf=3, min_samples_split=10, n_estimators=700; total time=   3.1s\n",
      "[CV] END bootstrap=True, max_depth=40, max_features=sqrt, min_samples_leaf=3, min_samples_split=11, n_estimators=600; total time=   2.6s\n",
      "[CV] END bootstrap=True, max_depth=40, max_features=sqrt, min_samples_leaf=3, min_samples_split=11, n_estimators=600; total time=   2.8s\n",
      "[CV] END bootstrap=True, max_depth=40, max_features=sqrt, min_samples_leaf=3, min_samples_split=11, n_estimators=600; total time=   2.8s\n",
      "[CV] END bootstrap=True, max_depth=40, max_features=sqrt, min_samples_leaf=3, min_samples_split=11, n_estimators=625; total time=   2.7s\n",
      "[CV] END bootstrap=True, max_depth=40, max_features=sqrt, min_samples_leaf=3, min_samples_split=11, n_estimators=625; total time=   2.7s\n",
      "[CV] END bootstrap=True, max_depth=40, max_features=sqrt, min_samples_leaf=3, min_samples_split=11, n_estimators=625; total time=   2.6s\n",
      "[CV] END bootstrap=True, max_depth=40, max_features=sqrt, min_samples_leaf=3, min_samples_split=11, n_estimators=650; total time=   2.9s\n",
      "[CV] END bootstrap=True, max_depth=40, max_features=sqrt, min_samples_leaf=3, min_samples_split=11, n_estimators=650; total time=   2.8s\n",
      "[CV] END bootstrap=True, max_depth=40, max_features=sqrt, min_samples_leaf=3, min_samples_split=11, n_estimators=650; total time=   2.8s\n",
      "[CV] END bootstrap=True, max_depth=40, max_features=sqrt, min_samples_leaf=3, min_samples_split=11, n_estimators=675; total time=   3.0s\n",
      "[CV] END bootstrap=True, max_depth=40, max_features=sqrt, min_samples_leaf=3, min_samples_split=11, n_estimators=675; total time=   2.9s\n",
      "[CV] END bootstrap=True, max_depth=40, max_features=sqrt, min_samples_leaf=3, min_samples_split=11, n_estimators=675; total time=   2.8s\n",
      "[CV] END bootstrap=True, max_depth=40, max_features=sqrt, min_samples_leaf=3, min_samples_split=11, n_estimators=700; total time=   2.9s\n",
      "[CV] END bootstrap=True, max_depth=40, max_features=sqrt, min_samples_leaf=3, min_samples_split=11, n_estimators=700; total time=   3.1s\n",
      "[CV] END bootstrap=True, max_depth=40, max_features=sqrt, min_samples_leaf=3, min_samples_split=11, n_estimators=700; total time=   3.0s\n",
      "[CV] END bootstrap=True, max_depth=50, max_features=sqrt, min_samples_leaf=1, min_samples_split=9, n_estimators=600; total time=   3.2s\n",
      "[CV] END bootstrap=True, max_depth=50, max_features=sqrt, min_samples_leaf=1, min_samples_split=9, n_estimators=600; total time=   3.2s\n",
      "[CV] END bootstrap=True, max_depth=50, max_features=sqrt, min_samples_leaf=1, min_samples_split=9, n_estimators=600; total time=   3.3s\n",
      "[CV] END bootstrap=True, max_depth=50, max_features=sqrt, min_samples_leaf=1, min_samples_split=9, n_estimators=625; total time=   3.3s\n",
      "[CV] END bootstrap=True, max_depth=50, max_features=sqrt, min_samples_leaf=1, min_samples_split=9, n_estimators=625; total time=   3.6s\n",
      "[CV] END bootstrap=True, max_depth=50, max_features=sqrt, min_samples_leaf=1, min_samples_split=9, n_estimators=625; total time=   3.4s\n",
      "[CV] END bootstrap=True, max_depth=50, max_features=sqrt, min_samples_leaf=1, min_samples_split=9, n_estimators=650; total time=   3.5s\n",
      "[CV] END bootstrap=True, max_depth=50, max_features=sqrt, min_samples_leaf=1, min_samples_split=9, n_estimators=650; total time=   3.6s\n",
      "[CV] END bootstrap=True, max_depth=50, max_features=sqrt, min_samples_leaf=1, min_samples_split=9, n_estimators=650; total time=   3.6s\n",
      "[CV] END bootstrap=True, max_depth=50, max_features=sqrt, min_samples_leaf=1, min_samples_split=9, n_estimators=675; total time=   3.7s\n",
      "[CV] END bootstrap=True, max_depth=50, max_features=sqrt, min_samples_leaf=1, min_samples_split=9, n_estimators=675; total time=   3.8s\n",
      "[CV] END bootstrap=True, max_depth=50, max_features=sqrt, min_samples_leaf=1, min_samples_split=9, n_estimators=675; total time=   3.7s\n",
      "[CV] END bootstrap=True, max_depth=50, max_features=sqrt, min_samples_leaf=1, min_samples_split=9, n_estimators=700; total time=   3.8s\n",
      "[CV] END bootstrap=True, max_depth=50, max_features=sqrt, min_samples_leaf=1, min_samples_split=9, n_estimators=700; total time=   3.8s\n",
      "[CV] END bootstrap=True, max_depth=50, max_features=sqrt, min_samples_leaf=1, min_samples_split=9, n_estimators=700; total time=   3.8s\n",
      "[CV] END bootstrap=True, max_depth=50, max_features=sqrt, min_samples_leaf=1, min_samples_split=10, n_estimators=600; total time=   3.1s\n",
      "[CV] END bootstrap=True, max_depth=50, max_features=sqrt, min_samples_leaf=1, min_samples_split=10, n_estimators=600; total time=   3.1s\n",
      "[CV] END bootstrap=True, max_depth=50, max_features=sqrt, min_samples_leaf=1, min_samples_split=10, n_estimators=600; total time=   3.1s\n",
      "[CV] END bootstrap=True, max_depth=50, max_features=sqrt, min_samples_leaf=1, min_samples_split=10, n_estimators=625; total time=   3.2s\n",
      "[CV] END bootstrap=True, max_depth=50, max_features=sqrt, min_samples_leaf=1, min_samples_split=10, n_estimators=625; total time=   3.3s\n",
      "[CV] END bootstrap=True, max_depth=50, max_features=sqrt, min_samples_leaf=1, min_samples_split=10, n_estimators=625; total time=   3.2s\n",
      "[CV] END bootstrap=True, max_depth=50, max_features=sqrt, min_samples_leaf=1, min_samples_split=10, n_estimators=650; total time=   3.4s\n",
      "[CV] END bootstrap=True, max_depth=50, max_features=sqrt, min_samples_leaf=1, min_samples_split=10, n_estimators=650; total time=   3.4s\n",
      "[CV] END bootstrap=True, max_depth=50, max_features=sqrt, min_samples_leaf=1, min_samples_split=10, n_estimators=650; total time=   3.4s\n",
      "[CV] END bootstrap=True, max_depth=50, max_features=sqrt, min_samples_leaf=1, min_samples_split=10, n_estimators=675; total time=   3.5s\n",
      "[CV] END bootstrap=True, max_depth=50, max_features=sqrt, min_samples_leaf=1, min_samples_split=10, n_estimators=675; total time=   3.5s\n",
      "[CV] END bootstrap=True, max_depth=50, max_features=sqrt, min_samples_leaf=1, min_samples_split=10, n_estimators=675; total time=   3.6s\n",
      "[CV] END bootstrap=True, max_depth=50, max_features=sqrt, min_samples_leaf=1, min_samples_split=10, n_estimators=700; total time=   3.6s\n",
      "[CV] END bootstrap=True, max_depth=50, max_features=sqrt, min_samples_leaf=1, min_samples_split=10, n_estimators=700; total time=   3.6s\n",
      "[CV] END bootstrap=True, max_depth=50, max_features=sqrt, min_samples_leaf=1, min_samples_split=10, n_estimators=700; total time=   3.6s\n",
      "[CV] END bootstrap=True, max_depth=50, max_features=sqrt, min_samples_leaf=1, min_samples_split=11, n_estimators=600; total time=   2.9s\n",
      "[CV] END bootstrap=True, max_depth=50, max_features=sqrt, min_samples_leaf=1, min_samples_split=11, n_estimators=600; total time=   3.0s\n",
      "[CV] END bootstrap=True, max_depth=50, max_features=sqrt, min_samples_leaf=1, min_samples_split=11, n_estimators=600; total time=   3.0s\n",
      "[CV] END bootstrap=True, max_depth=50, max_features=sqrt, min_samples_leaf=1, min_samples_split=11, n_estimators=625; total time=   3.1s\n",
      "[CV] END bootstrap=True, max_depth=50, max_features=sqrt, min_samples_leaf=1, min_samples_split=11, n_estimators=625; total time=   3.1s\n",
      "[CV] END bootstrap=True, max_depth=50, max_features=sqrt, min_samples_leaf=1, min_samples_split=11, n_estimators=625; total time=   3.1s\n",
      "[CV] END bootstrap=True, max_depth=50, max_features=sqrt, min_samples_leaf=1, min_samples_split=11, n_estimators=650; total time=   3.2s\n",
      "[CV] END bootstrap=True, max_depth=50, max_features=sqrt, min_samples_leaf=1, min_samples_split=11, n_estimators=650; total time=   3.2s\n",
      "[CV] END bootstrap=True, max_depth=50, max_features=sqrt, min_samples_leaf=1, min_samples_split=11, n_estimators=650; total time=   3.2s\n",
      "[CV] END bootstrap=True, max_depth=50, max_features=sqrt, min_samples_leaf=1, min_samples_split=11, n_estimators=675; total time=   3.4s\n",
      "[CV] END bootstrap=True, max_depth=50, max_features=sqrt, min_samples_leaf=1, min_samples_split=11, n_estimators=675; total time=   3.3s\n",
      "[CV] END bootstrap=True, max_depth=50, max_features=sqrt, min_samples_leaf=1, min_samples_split=11, n_estimators=675; total time=   3.3s\n",
      "[CV] END bootstrap=True, max_depth=50, max_features=sqrt, min_samples_leaf=1, min_samples_split=11, n_estimators=700; total time=   3.5s\n",
      "[CV] END bootstrap=True, max_depth=50, max_features=sqrt, min_samples_leaf=1, min_samples_split=11, n_estimators=700; total time=   3.5s\n",
      "[CV] END bootstrap=True, max_depth=50, max_features=sqrt, min_samples_leaf=1, min_samples_split=11, n_estimators=700; total time=   3.5s\n",
      "[CV] END bootstrap=True, max_depth=50, max_features=sqrt, min_samples_leaf=2, min_samples_split=9, n_estimators=600; total time=   2.9s\n",
      "[CV] END bootstrap=True, max_depth=50, max_features=sqrt, min_samples_leaf=2, min_samples_split=9, n_estimators=600; total time=   2.9s\n",
      "[CV] END bootstrap=True, max_depth=50, max_features=sqrt, min_samples_leaf=2, min_samples_split=9, n_estimators=600; total time=   2.9s\n",
      "[CV] END bootstrap=True, max_depth=50, max_features=sqrt, min_samples_leaf=2, min_samples_split=9, n_estimators=625; total time=   2.9s\n",
      "[CV] END bootstrap=True, max_depth=50, max_features=sqrt, min_samples_leaf=2, min_samples_split=9, n_estimators=625; total time=   3.0s\n",
      "[CV] END bootstrap=True, max_depth=50, max_features=sqrt, min_samples_leaf=2, min_samples_split=9, n_estimators=625; total time=   3.0s\n",
      "[CV] END bootstrap=True, max_depth=50, max_features=sqrt, min_samples_leaf=2, min_samples_split=9, n_estimators=650; total time=   3.4s\n",
      "[CV] END bootstrap=True, max_depth=50, max_features=sqrt, min_samples_leaf=2, min_samples_split=9, n_estimators=650; total time=   3.1s\n",
      "[CV] END bootstrap=True, max_depth=50, max_features=sqrt, min_samples_leaf=2, min_samples_split=9, n_estimators=650; total time=   3.1s\n",
      "[CV] END bootstrap=True, max_depth=50, max_features=sqrt, min_samples_leaf=2, min_samples_split=9, n_estimators=675; total time=   3.2s\n",
      "[CV] END bootstrap=True, max_depth=50, max_features=sqrt, min_samples_leaf=2, min_samples_split=9, n_estimators=675; total time=   3.3s\n",
      "[CV] END bootstrap=True, max_depth=50, max_features=sqrt, min_samples_leaf=2, min_samples_split=9, n_estimators=675; total time=   3.4s\n",
      "[CV] END bootstrap=True, max_depth=50, max_features=sqrt, min_samples_leaf=2, min_samples_split=9, n_estimators=700; total time=   3.6s\n",
      "[CV] END bootstrap=True, max_depth=50, max_features=sqrt, min_samples_leaf=2, min_samples_split=9, n_estimators=700; total time=   3.4s\n",
      "[CV] END bootstrap=True, max_depth=50, max_features=sqrt, min_samples_leaf=2, min_samples_split=9, n_estimators=700; total time=   3.4s\n",
      "[CV] END bootstrap=True, max_depth=50, max_features=sqrt, min_samples_leaf=2, min_samples_split=10, n_estimators=600; total time=   2.8s\n",
      "[CV] END bootstrap=True, max_depth=50, max_features=sqrt, min_samples_leaf=2, min_samples_split=10, n_estimators=600; total time=   2.8s\n",
      "[CV] END bootstrap=True, max_depth=50, max_features=sqrt, min_samples_leaf=2, min_samples_split=10, n_estimators=600; total time=   2.8s\n",
      "[CV] END bootstrap=True, max_depth=50, max_features=sqrt, min_samples_leaf=2, min_samples_split=10, n_estimators=625; total time=   2.9s\n",
      "[CV] END bootstrap=True, max_depth=50, max_features=sqrt, min_samples_leaf=2, min_samples_split=10, n_estimators=625; total time=   2.9s\n",
      "[CV] END bootstrap=True, max_depth=50, max_features=sqrt, min_samples_leaf=2, min_samples_split=10, n_estimators=625; total time=   2.9s\n",
      "[CV] END bootstrap=True, max_depth=50, max_features=sqrt, min_samples_leaf=2, min_samples_split=10, n_estimators=650; total time=   3.0s\n",
      "[CV] END bootstrap=True, max_depth=50, max_features=sqrt, min_samples_leaf=2, min_samples_split=10, n_estimators=650; total time=   3.0s\n",
      "[CV] END bootstrap=True, max_depth=50, max_features=sqrt, min_samples_leaf=2, min_samples_split=10, n_estimators=650; total time=   3.0s\n",
      "[CV] END bootstrap=True, max_depth=50, max_features=sqrt, min_samples_leaf=2, min_samples_split=10, n_estimators=675; total time=   3.2s\n",
      "[CV] END bootstrap=True, max_depth=50, max_features=sqrt, min_samples_leaf=2, min_samples_split=10, n_estimators=675; total time=   3.1s\n",
      "[CV] END bootstrap=True, max_depth=50, max_features=sqrt, min_samples_leaf=2, min_samples_split=10, n_estimators=675; total time=   3.1s\n",
      "[CV] END bootstrap=True, max_depth=50, max_features=sqrt, min_samples_leaf=2, min_samples_split=10, n_estimators=700; total time=   3.2s\n",
      "[CV] END bootstrap=True, max_depth=50, max_features=sqrt, min_samples_leaf=2, min_samples_split=10, n_estimators=700; total time=   3.4s\n",
      "[CV] END bootstrap=True, max_depth=50, max_features=sqrt, min_samples_leaf=2, min_samples_split=10, n_estimators=700; total time=   3.3s\n",
      "[CV] END bootstrap=True, max_depth=50, max_features=sqrt, min_samples_leaf=2, min_samples_split=11, n_estimators=600; total time=   2.9s\n",
      "[CV] END bootstrap=True, max_depth=50, max_features=sqrt, min_samples_leaf=2, min_samples_split=11, n_estimators=600; total time=   2.9s\n",
      "[CV] END bootstrap=True, max_depth=50, max_features=sqrt, min_samples_leaf=2, min_samples_split=11, n_estimators=600; total time=   3.0s\n",
      "[CV] END bootstrap=True, max_depth=50, max_features=sqrt, min_samples_leaf=2, min_samples_split=11, n_estimators=625; total time=   3.2s\n",
      "[CV] END bootstrap=True, max_depth=50, max_features=sqrt, min_samples_leaf=2, min_samples_split=11, n_estimators=625; total time=   3.0s\n",
      "[CV] END bootstrap=True, max_depth=50, max_features=sqrt, min_samples_leaf=2, min_samples_split=11, n_estimators=625; total time=   3.0s\n",
      "[CV] END bootstrap=True, max_depth=50, max_features=sqrt, min_samples_leaf=2, min_samples_split=11, n_estimators=650; total time=   2.9s\n",
      "[CV] END bootstrap=True, max_depth=50, max_features=sqrt, min_samples_leaf=2, min_samples_split=11, n_estimators=650; total time=   3.0s\n",
      "[CV] END bootstrap=True, max_depth=50, max_features=sqrt, min_samples_leaf=2, min_samples_split=11, n_estimators=650; total time=   2.9s\n",
      "[CV] END bootstrap=True, max_depth=50, max_features=sqrt, min_samples_leaf=2, min_samples_split=11, n_estimators=675; total time=   3.1s\n",
      "[CV] END bootstrap=True, max_depth=50, max_features=sqrt, min_samples_leaf=2, min_samples_split=11, n_estimators=675; total time=   3.1s\n",
      "[CV] END bootstrap=True, max_depth=50, max_features=sqrt, min_samples_leaf=2, min_samples_split=11, n_estimators=675; total time=   3.0s\n",
      "[CV] END bootstrap=True, max_depth=50, max_features=sqrt, min_samples_leaf=2, min_samples_split=11, n_estimators=700; total time=   3.1s\n",
      "[CV] END bootstrap=True, max_depth=50, max_features=sqrt, min_samples_leaf=2, min_samples_split=11, n_estimators=700; total time=   3.2s\n",
      "[CV] END bootstrap=True, max_depth=50, max_features=sqrt, min_samples_leaf=2, min_samples_split=11, n_estimators=700; total time=   3.2s\n",
      "[CV] END bootstrap=True, max_depth=50, max_features=sqrt, min_samples_leaf=3, min_samples_split=9, n_estimators=600; total time=   2.6s\n",
      "[CV] END bootstrap=True, max_depth=50, max_features=sqrt, min_samples_leaf=3, min_samples_split=9, n_estimators=600; total time=   2.6s\n",
      "[CV] END bootstrap=True, max_depth=50, max_features=sqrt, min_samples_leaf=3, min_samples_split=9, n_estimators=600; total time=   2.6s\n",
      "[CV] END bootstrap=True, max_depth=50, max_features=sqrt, min_samples_leaf=3, min_samples_split=9, n_estimators=625; total time=   2.7s\n",
      "[CV] END bootstrap=True, max_depth=50, max_features=sqrt, min_samples_leaf=3, min_samples_split=9, n_estimators=625; total time=   2.7s\n",
      "[CV] END bootstrap=True, max_depth=50, max_features=sqrt, min_samples_leaf=3, min_samples_split=9, n_estimators=625; total time=   2.8s\n",
      "[CV] END bootstrap=True, max_depth=50, max_features=sqrt, min_samples_leaf=3, min_samples_split=9, n_estimators=650; total time=   2.8s\n",
      "[CV] END bootstrap=True, max_depth=50, max_features=sqrt, min_samples_leaf=3, min_samples_split=9, n_estimators=650; total time=   2.9s\n",
      "[CV] END bootstrap=True, max_depth=50, max_features=sqrt, min_samples_leaf=3, min_samples_split=9, n_estimators=650; total time=   2.9s\n",
      "[CV] END bootstrap=True, max_depth=50, max_features=sqrt, min_samples_leaf=3, min_samples_split=9, n_estimators=675; total time=   2.9s\n",
      "[CV] END bootstrap=True, max_depth=50, max_features=sqrt, min_samples_leaf=3, min_samples_split=9, n_estimators=675; total time=   3.0s\n",
      "[CV] END bootstrap=True, max_depth=50, max_features=sqrt, min_samples_leaf=3, min_samples_split=9, n_estimators=675; total time=   2.9s\n",
      "[CV] END bootstrap=True, max_depth=50, max_features=sqrt, min_samples_leaf=3, min_samples_split=9, n_estimators=700; total time=   3.1s\n",
      "[CV] END bootstrap=True, max_depth=50, max_features=sqrt, min_samples_leaf=3, min_samples_split=9, n_estimators=700; total time=   3.0s\n",
      "[CV] END bootstrap=True, max_depth=50, max_features=sqrt, min_samples_leaf=3, min_samples_split=9, n_estimators=700; total time=   3.0s\n",
      "[CV] END bootstrap=True, max_depth=50, max_features=sqrt, min_samples_leaf=3, min_samples_split=10, n_estimators=600; total time=   2.5s\n",
      "[CV] END bootstrap=True, max_depth=50, max_features=sqrt, min_samples_leaf=3, min_samples_split=10, n_estimators=600; total time=   2.6s\n",
      "[CV] END bootstrap=True, max_depth=50, max_features=sqrt, min_samples_leaf=3, min_samples_split=10, n_estimators=600; total time=   2.6s\n",
      "[CV] END bootstrap=True, max_depth=50, max_features=sqrt, min_samples_leaf=3, min_samples_split=10, n_estimators=625; total time=   2.6s\n",
      "[CV] END bootstrap=True, max_depth=50, max_features=sqrt, min_samples_leaf=3, min_samples_split=10, n_estimators=625; total time=   2.7s\n",
      "[CV] END bootstrap=True, max_depth=50, max_features=sqrt, min_samples_leaf=3, min_samples_split=10, n_estimators=625; total time=   2.6s\n",
      "[CV] END bootstrap=True, max_depth=50, max_features=sqrt, min_samples_leaf=3, min_samples_split=10, n_estimators=650; total time=   2.7s\n",
      "[CV] END bootstrap=True, max_depth=50, max_features=sqrt, min_samples_leaf=3, min_samples_split=10, n_estimators=650; total time=   2.7s\n",
      "[CV] END bootstrap=True, max_depth=50, max_features=sqrt, min_samples_leaf=3, min_samples_split=10, n_estimators=650; total time=   2.7s\n",
      "[CV] END bootstrap=True, max_depth=50, max_features=sqrt, min_samples_leaf=3, min_samples_split=10, n_estimators=675; total time=   2.9s\n",
      "[CV] END bootstrap=True, max_depth=50, max_features=sqrt, min_samples_leaf=3, min_samples_split=10, n_estimators=675; total time=   3.2s\n",
      "[CV] END bootstrap=True, max_depth=50, max_features=sqrt, min_samples_leaf=3, min_samples_split=10, n_estimators=675; total time=   3.0s\n",
      "[CV] END bootstrap=True, max_depth=50, max_features=sqrt, min_samples_leaf=3, min_samples_split=10, n_estimators=700; total time=   2.9s\n",
      "[CV] END bootstrap=True, max_depth=50, max_features=sqrt, min_samples_leaf=3, min_samples_split=10, n_estimators=700; total time=   2.9s\n",
      "[CV] END bootstrap=True, max_depth=50, max_features=sqrt, min_samples_leaf=3, min_samples_split=10, n_estimators=700; total time=   3.0s\n",
      "[CV] END bootstrap=True, max_depth=50, max_features=sqrt, min_samples_leaf=3, min_samples_split=11, n_estimators=600; total time=   2.5s\n",
      "[CV] END bootstrap=True, max_depth=50, max_features=sqrt, min_samples_leaf=3, min_samples_split=11, n_estimators=600; total time=   2.6s\n",
      "[CV] END bootstrap=True, max_depth=50, max_features=sqrt, min_samples_leaf=3, min_samples_split=11, n_estimators=600; total time=   2.5s\n",
      "[CV] END bootstrap=True, max_depth=50, max_features=sqrt, min_samples_leaf=3, min_samples_split=11, n_estimators=625; total time=   2.6s\n",
      "[CV] END bootstrap=True, max_depth=50, max_features=sqrt, min_samples_leaf=3, min_samples_split=11, n_estimators=625; total time=   2.6s\n",
      "[CV] END bootstrap=True, max_depth=50, max_features=sqrt, min_samples_leaf=3, min_samples_split=11, n_estimators=625; total time=   2.6s\n",
      "[CV] END bootstrap=True, max_depth=50, max_features=sqrt, min_samples_leaf=3, min_samples_split=11, n_estimators=650; total time=   2.8s\n",
      "[CV] END bootstrap=True, max_depth=50, max_features=sqrt, min_samples_leaf=3, min_samples_split=11, n_estimators=650; total time=   2.9s\n",
      "[CV] END bootstrap=True, max_depth=50, max_features=sqrt, min_samples_leaf=3, min_samples_split=11, n_estimators=650; total time=   2.7s\n",
      "[CV] END bootstrap=True, max_depth=50, max_features=sqrt, min_samples_leaf=3, min_samples_split=11, n_estimators=675; total time=   2.8s\n",
      "[CV] END bootstrap=True, max_depth=50, max_features=sqrt, min_samples_leaf=3, min_samples_split=11, n_estimators=675; total time=   2.9s\n",
      "[CV] END bootstrap=True, max_depth=50, max_features=sqrt, min_samples_leaf=3, min_samples_split=11, n_estimators=675; total time=   2.8s\n",
      "[CV] END bootstrap=True, max_depth=50, max_features=sqrt, min_samples_leaf=3, min_samples_split=11, n_estimators=700; total time=   2.9s\n",
      "[CV] END bootstrap=True, max_depth=50, max_features=sqrt, min_samples_leaf=3, min_samples_split=11, n_estimators=700; total time=   2.9s\n",
      "[CV] END bootstrap=True, max_depth=50, max_features=sqrt, min_samples_leaf=3, min_samples_split=11, n_estimators=700; total time=   3.0s\n"
     ]
    },
    {
     "data": {
      "text/plain": "GridSearchCV(cv=3, estimator=RandomForestRegressor(),\n             param_grid={'bootstrap': [True], 'max_depth': [30, 40, 50],\n                         'max_features': ['sqrt'],\n                         'min_samples_leaf': [1, 2, 3],\n                         'min_samples_split': [9, 10, 11],\n                         'n_estimators': [600, 625, 650, 675, 700]},\n             verbose=2)",
      "text/html": "<style>#sk-container-id-2 {color: black;}#sk-container-id-2 pre{padding: 0;}#sk-container-id-2 div.sk-toggleable {background-color: white;}#sk-container-id-2 label.sk-toggleable__label {cursor: pointer;display: block;width: 100%;margin-bottom: 0;padding: 0.3em;box-sizing: border-box;text-align: center;}#sk-container-id-2 label.sk-toggleable__label-arrow:before {content: \"▸\";float: left;margin-right: 0.25em;color: #696969;}#sk-container-id-2 label.sk-toggleable__label-arrow:hover:before {color: black;}#sk-container-id-2 div.sk-estimator:hover label.sk-toggleable__label-arrow:before {color: black;}#sk-container-id-2 div.sk-toggleable__content {max-height: 0;max-width: 0;overflow: hidden;text-align: left;background-color: #f0f8ff;}#sk-container-id-2 div.sk-toggleable__content pre {margin: 0.2em;color: black;border-radius: 0.25em;background-color: #f0f8ff;}#sk-container-id-2 input.sk-toggleable__control:checked~div.sk-toggleable__content {max-height: 200px;max-width: 100%;overflow: auto;}#sk-container-id-2 input.sk-toggleable__control:checked~label.sk-toggleable__label-arrow:before {content: \"▾\";}#sk-container-id-2 div.sk-estimator input.sk-toggleable__control:checked~label.sk-toggleable__label {background-color: #d4ebff;}#sk-container-id-2 div.sk-label input.sk-toggleable__control:checked~label.sk-toggleable__label {background-color: #d4ebff;}#sk-container-id-2 input.sk-hidden--visually {border: 0;clip: rect(1px 1px 1px 1px);clip: rect(1px, 1px, 1px, 1px);height: 1px;margin: -1px;overflow: hidden;padding: 0;position: absolute;width: 1px;}#sk-container-id-2 div.sk-estimator {font-family: monospace;background-color: #f0f8ff;border: 1px dotted black;border-radius: 0.25em;box-sizing: border-box;margin-bottom: 0.5em;}#sk-container-id-2 div.sk-estimator:hover {background-color: #d4ebff;}#sk-container-id-2 div.sk-parallel-item::after {content: \"\";width: 100%;border-bottom: 1px solid gray;flex-grow: 1;}#sk-container-id-2 div.sk-label:hover label.sk-toggleable__label {background-color: #d4ebff;}#sk-container-id-2 div.sk-serial::before {content: \"\";position: absolute;border-left: 1px solid gray;box-sizing: border-box;top: 0;bottom: 0;left: 50%;z-index: 0;}#sk-container-id-2 div.sk-serial {display: flex;flex-direction: column;align-items: center;background-color: white;padding-right: 0.2em;padding-left: 0.2em;position: relative;}#sk-container-id-2 div.sk-item {position: relative;z-index: 1;}#sk-container-id-2 div.sk-parallel {display: flex;align-items: stretch;justify-content: center;background-color: white;position: relative;}#sk-container-id-2 div.sk-item::before, #sk-container-id-2 div.sk-parallel-item::before {content: \"\";position: absolute;border-left: 1px solid gray;box-sizing: border-box;top: 0;bottom: 0;left: 50%;z-index: -1;}#sk-container-id-2 div.sk-parallel-item {display: flex;flex-direction: column;z-index: 1;position: relative;background-color: white;}#sk-container-id-2 div.sk-parallel-item:first-child::after {align-self: flex-end;width: 50%;}#sk-container-id-2 div.sk-parallel-item:last-child::after {align-self: flex-start;width: 50%;}#sk-container-id-2 div.sk-parallel-item:only-child::after {width: 0;}#sk-container-id-2 div.sk-dashed-wrapped {border: 1px dashed gray;margin: 0 0.4em 0.5em 0.4em;box-sizing: border-box;padding-bottom: 0.4em;background-color: white;}#sk-container-id-2 div.sk-label label {font-family: monospace;font-weight: bold;display: inline-block;line-height: 1.2em;}#sk-container-id-2 div.sk-label-container {text-align: center;}#sk-container-id-2 div.sk-container {/* jupyter's `normalize.less` sets `[hidden] { display: none; }` but bootstrap.min.css set `[hidden] { display: none !important; }` so we also need the `!important` here to be able to override the default hidden behavior on the sphinx rendered scikit-learn.org. See: https://github.com/scikit-learn/scikit-learn/issues/21755 */display: inline-block !important;position: relative;}#sk-container-id-2 div.sk-text-repr-fallback {display: none;}</style><div id=\"sk-container-id-2\" class=\"sk-top-container\"><div class=\"sk-text-repr-fallback\"><pre>GridSearchCV(cv=3, estimator=RandomForestRegressor(),\n             param_grid={&#x27;bootstrap&#x27;: [True], &#x27;max_depth&#x27;: [30, 40, 50],\n                         &#x27;max_features&#x27;: [&#x27;sqrt&#x27;],\n                         &#x27;min_samples_leaf&#x27;: [1, 2, 3],\n                         &#x27;min_samples_split&#x27;: [9, 10, 11],\n                         &#x27;n_estimators&#x27;: [600, 625, 650, 675, 700]},\n             verbose=2)</pre><b>In a Jupyter environment, please rerun this cell to show the HTML representation or trust the notebook. <br />On GitHub, the HTML representation is unable to render, please try loading this page with nbviewer.org.</b></div><div class=\"sk-container\" hidden><div class=\"sk-item sk-dashed-wrapped\"><div class=\"sk-label-container\"><div class=\"sk-label sk-toggleable\"><input class=\"sk-toggleable__control sk-hidden--visually\" id=\"sk-estimator-id-4\" type=\"checkbox\" ><label for=\"sk-estimator-id-4\" class=\"sk-toggleable__label sk-toggleable__label-arrow\">GridSearchCV</label><div class=\"sk-toggleable__content\"><pre>GridSearchCV(cv=3, estimator=RandomForestRegressor(),\n             param_grid={&#x27;bootstrap&#x27;: [True], &#x27;max_depth&#x27;: [30, 40, 50],\n                         &#x27;max_features&#x27;: [&#x27;sqrt&#x27;],\n                         &#x27;min_samples_leaf&#x27;: [1, 2, 3],\n                         &#x27;min_samples_split&#x27;: [9, 10, 11],\n                         &#x27;n_estimators&#x27;: [600, 625, 650, 675, 700]},\n             verbose=2)</pre></div></div></div><div class=\"sk-parallel\"><div class=\"sk-parallel-item\"><div class=\"sk-item\"><div class=\"sk-label-container\"><div class=\"sk-label sk-toggleable\"><input class=\"sk-toggleable__control sk-hidden--visually\" id=\"sk-estimator-id-5\" type=\"checkbox\" ><label for=\"sk-estimator-id-5\" class=\"sk-toggleable__label sk-toggleable__label-arrow\">estimator: RandomForestRegressor</label><div class=\"sk-toggleable__content\"><pre>RandomForestRegressor()</pre></div></div></div><div class=\"sk-serial\"><div class=\"sk-item\"><div class=\"sk-estimator sk-toggleable\"><input class=\"sk-toggleable__control sk-hidden--visually\" id=\"sk-estimator-id-6\" type=\"checkbox\" ><label for=\"sk-estimator-id-6\" class=\"sk-toggleable__label sk-toggleable__label-arrow\">RandomForestRegressor</label><div class=\"sk-toggleable__content\"><pre>RandomForestRegressor()</pre></div></div></div></div></div></div></div></div></div></div>"
     },
     "execution_count": 18,
     "metadata": {},
     "output_type": "execute_result"
    }
   ],
   "source": [
    "rf = RandomForestRegressor()\n",
    "\n",
    "rf_grid = GridSearchCV(estimator = rf, param_grid=second_grid, cv=3, verbose=2)\n",
    "\n",
    "rf_grid.fit(X_train, y_train)"
   ],
   "metadata": {
    "collapsed": false,
    "ExecuteTime": {
     "end_time": "2023-12-08T00:51:23.167030200Z",
     "start_time": "2023-12-08T00:29:32.599009100Z"
    }
   }
  },
  {
   "cell_type": "code",
   "execution_count": 19,
   "outputs": [
    {
     "data": {
      "text/plain": "{'bootstrap': True,\n 'max_depth': 30,\n 'max_features': 'sqrt',\n 'min_samples_leaf': 2,\n 'min_samples_split': 10,\n 'n_estimators': 600}"
     },
     "execution_count": 19,
     "metadata": {},
     "output_type": "execute_result"
    }
   ],
   "source": [
    "rf_grid.best_params_"
   ],
   "metadata": {
    "collapsed": false,
    "ExecuteTime": {
     "end_time": "2023-12-08T00:51:45.321419600Z",
     "start_time": "2023-12-08T00:51:45.308913500Z"
    }
   }
  },
  {
   "cell_type": "code",
   "execution_count": 20,
   "outputs": [],
   "source": [
    "model_best = RandomForestRegressor(n_estimators=600,\n",
    "                              min_samples_split=10,\n",
    "                              min_samples_leaf=2,\n",
    "                              max_features='sqrt',\n",
    "                              max_depth=30,\n",
    "                              bootstrap=True)\n",
    "\n",
    "model_best.fit(X_train,y_train)\n",
    "\n",
    "y_pred = model_best.predict(X_test)"
   ],
   "metadata": {
    "collapsed": false,
    "ExecuteTime": {
     "end_time": "2023-12-08T00:52:22.497133200Z",
     "start_time": "2023-12-08T00:52:18.124192400Z"
    }
   }
  },
  {
   "cell_type": "code",
   "execution_count": 23,
   "outputs": [
    {
     "name": "stdout",
     "output_type": "stream",
     "text": [
      "mean abs error: 96.00272271535073\n",
      "mean sq error: 29848.231916169254\n",
      "rmse: 172.76640852946284\n",
      "mean abs percent error: 1333.99\n",
      "accuracy: -1233.99\n",
      "r squared: 0.27490526409367466\n"
     ]
    }
   ],
   "source": [
    "print('mean abs error:', metrics.mean_absolute_error(y_test, y_pred))\n",
    "print('mean sq error:', metrics.mean_squared_error(y_test, y_pred))\n",
    "print('rmse:', np.sqrt(metrics.mean_squared_error(y_test, y_pred)))\n",
    "mape = np.mean(np.abs((y_test - y_pred) / np.abs(y_test)))\n",
    "print('mean abs percent error:', round(mape * 100, 2))\n",
    "print('accuracy:', round(100*(1 - mape), 2))\n",
    "print('r squared:', metrics.r2_score(y_test, y_pred))"
   ],
   "metadata": {
    "collapsed": false,
    "ExecuteTime": {
     "end_time": "2023-12-08T01:00:07.906033800Z",
     "start_time": "2023-12-08T01:00:07.884626900Z"
    }
   }
  },
  {
   "cell_type": "markdown",
   "source": [
    "this is the best I'm going to do with this model setup, so I'm going to pickle it so that it can be used in my stuff later on."
   ],
   "metadata": {
    "collapsed": false
   }
  },
  {
   "cell_type": "code",
   "execution_count": 22,
   "outputs": [],
   "source": [
    "with open('model.pkl', 'wb') as f_pickle:\n",
    "    pickle.dump(model_best, f_pickle)"
   ],
   "metadata": {
    "collapsed": false,
    "ExecuteTime": {
     "end_time": "2023-12-08T00:52:29.450189700Z",
     "start_time": "2023-12-08T00:52:29.352402700Z"
    }
   }
  }
 ],
 "metadata": {
  "kernelspec": {
   "display_name": "Python 3",
   "language": "python",
   "name": "python3"
  },
  "language_info": {
   "codemirror_mode": {
    "name": "ipython",
    "version": 2
   },
   "file_extension": ".py",
   "mimetype": "text/x-python",
   "name": "python",
   "nbconvert_exporter": "python",
   "pygments_lexer": "ipython2",
   "version": "2.7.6"
  }
 },
 "nbformat": 4,
 "nbformat_minor": 0
}
